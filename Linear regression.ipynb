{
 "cells": [
  {
   "cell_type": "code",
   "execution_count": 1,
   "id": "394105aa-110a-4b54-8e23-6656e5918fbd",
   "metadata": {},
   "outputs": [],
   "source": [
    "import pandas as pd\n",
    "import numpy as np\n",
    "import matplotlib.pyplot as plt\n",
    "%matplotlib inline\n"
   ]
  },
  {
   "cell_type": "markdown",
   "id": "e09fcc9d-2ccc-43a2-a488-13109ba2e844",
   "metadata": {},
   "source": [
    "Lets Load the Dataset"
   ]
  },
  {
   "cell_type": "code",
   "execution_count": 2,
   "id": "c9f1d4fa-6666-434d-8a06-f7c3f456f19a",
   "metadata": {},
   "outputs": [],
   "source": [
    "from sklearn.datasets import load_diabetes"
   ]
  },
  {
   "cell_type": "code",
   "execution_count": 3,
   "id": "ceb08478-a96e-4741-9070-162d8a6024ab",
   "metadata": {},
   "outputs": [],
   "source": [
    "diabetes=load_diabetes()"
   ]
  },
  {
   "cell_type": "code",
   "execution_count": 4,
   "id": "2e13aa5c-b89b-4151-aaa5-3bf6d5bf5e32",
   "metadata": {},
   "outputs": [
    {
     "data": {
      "text/plain": [
       "dict_keys(['data', 'target', 'frame', 'DESCR', 'feature_names', 'data_filename', 'target_filename', 'data_module'])"
      ]
     },
     "execution_count": 4,
     "metadata": {},
     "output_type": "execute_result"
    }
   ],
   "source": [
    "diabetes.keys()"
   ]
  },
  {
   "cell_type": "code",
   "execution_count": 5,
   "id": "d468904a-cd0e-4721-806a-39bee017fc13",
   "metadata": {},
   "outputs": [
    {
     "name": "stdout",
     "output_type": "stream",
     "text": [
      ".. _diabetes_dataset:\n",
      "\n",
      "Diabetes dataset\n",
      "----------------\n",
      "\n",
      "Ten baseline variables, age, sex, body mass index, average blood\n",
      "pressure, and six blood serum measurements were obtained for each of n =\n",
      "442 diabetes patients, as well as the response of interest, a\n",
      "quantitative measure of disease progression one year after baseline.\n",
      "\n",
      "**Data Set Characteristics:**\n",
      "\n",
      ":Number of Instances: 442\n",
      "\n",
      ":Number of Attributes: First 10 columns are numeric predictive values\n",
      "\n",
      ":Target: Column 11 is a quantitative measure of disease progression one year after baseline\n",
      "\n",
      ":Attribute Information:\n",
      "    - age     age in years\n",
      "    - sex\n",
      "    - bmi     body mass index\n",
      "    - bp      average blood pressure\n",
      "    - s1      tc, total serum cholesterol\n",
      "    - s2      ldl, low-density lipoproteins\n",
      "    - s3      hdl, high-density lipoproteins\n",
      "    - s4      tch, total cholesterol / HDL\n",
      "    - s5      ltg, possibly log of serum triglycerides level\n",
      "    - s6      glu, blood sugar level\n",
      "\n",
      "Note: Each of these 10 feature variables have been mean centered and scaled by the standard deviation times the square root of `n_samples` (i.e. the sum of squares of each column totals 1).\n",
      "\n",
      "Source URL:\n",
      "https://www4.stat.ncsu.edu/~boos/var.select/diabetes.html\n",
      "\n",
      "For more information see:\n",
      "Bradley Efron, Trevor Hastie, Iain Johnstone and Robert Tibshirani (2004) \"Least Angle Regression,\" Annals of Statistics (with discussion), 407-499.\n",
      "(https://web.stanford.edu/~hastie/Papers/LARS/LeastAngle_2002.pdf)\n",
      "\n"
     ]
    }
   ],
   "source": [
    "## lets check check the DESCR\n",
    "print(diabetes.DESCR)"
   ]
  },
  {
   "cell_type": "code",
   "execution_count": 6,
   "id": "bb7d1e05-2d36-4f62-9953-4a2a054fdf4a",
   "metadata": {},
   "outputs": [
    {
     "name": "stdout",
     "output_type": "stream",
     "text": [
      "[[ 0.03807591  0.05068012  0.06169621 ... -0.00259226  0.01990749\n",
      "  -0.01764613]\n",
      " [-0.00188202 -0.04464164 -0.05147406 ... -0.03949338 -0.06833155\n",
      "  -0.09220405]\n",
      " [ 0.08529891  0.05068012  0.04445121 ... -0.00259226  0.00286131\n",
      "  -0.02593034]\n",
      " ...\n",
      " [ 0.04170844  0.05068012 -0.01590626 ... -0.01107952 -0.04688253\n",
      "   0.01549073]\n",
      " [-0.04547248 -0.04464164  0.03906215 ...  0.02655962  0.04452873\n",
      "  -0.02593034]\n",
      " [-0.04547248 -0.04464164 -0.0730303  ... -0.03949338 -0.00422151\n",
      "   0.00306441]]\n"
     ]
    }
   ],
   "source": [
    "print(diabetes.data)"
   ]
  },
  {
   "cell_type": "code",
   "execution_count": 7,
   "id": "85a61146-f153-4ea0-b42c-10bde18fed32",
   "metadata": {},
   "outputs": [
    {
     "name": "stdout",
     "output_type": "stream",
     "text": [
      "[151.  75. 141. 206. 135.  97. 138.  63. 110. 310. 101.  69. 179. 185.\n",
      " 118. 171. 166. 144.  97. 168.  68.  49.  68. 245. 184. 202. 137.  85.\n",
      " 131. 283. 129.  59. 341.  87.  65. 102. 265. 276. 252.  90. 100.  55.\n",
      "  61.  92. 259.  53. 190. 142.  75. 142. 155. 225.  59. 104. 182. 128.\n",
      "  52.  37. 170. 170.  61. 144.  52. 128.  71. 163. 150.  97. 160. 178.\n",
      "  48. 270. 202. 111.  85.  42. 170. 200. 252. 113. 143.  51.  52. 210.\n",
      "  65. 141.  55. 134.  42. 111.  98. 164.  48.  96.  90. 162. 150. 279.\n",
      "  92.  83. 128. 102. 302. 198.  95.  53. 134. 144. 232.  81. 104.  59.\n",
      " 246. 297. 258. 229. 275. 281. 179. 200. 200. 173. 180.  84. 121. 161.\n",
      "  99. 109. 115. 268. 274. 158. 107.  83. 103. 272.  85. 280. 336. 281.\n",
      " 118. 317. 235.  60. 174. 259. 178. 128.  96. 126. 288.  88. 292.  71.\n",
      " 197. 186.  25.  84.  96. 195.  53. 217. 172. 131. 214.  59.  70. 220.\n",
      " 268. 152.  47.  74. 295. 101. 151. 127. 237. 225.  81. 151. 107.  64.\n",
      " 138. 185. 265. 101. 137. 143. 141.  79. 292. 178.  91. 116.  86. 122.\n",
      "  72. 129. 142.  90. 158.  39. 196. 222. 277.  99. 196. 202. 155.  77.\n",
      " 191.  70.  73.  49.  65. 263. 248. 296. 214. 185.  78.  93. 252. 150.\n",
      "  77. 208.  77. 108. 160.  53. 220. 154. 259.  90. 246. 124.  67.  72.\n",
      " 257. 262. 275. 177.  71.  47. 187. 125.  78.  51. 258. 215. 303. 243.\n",
      "  91. 150. 310. 153. 346.  63.  89.  50.  39. 103. 308. 116. 145.  74.\n",
      "  45. 115. 264.  87. 202. 127. 182. 241.  66.  94. 283.  64. 102. 200.\n",
      " 265.  94. 230. 181. 156. 233.  60. 219.  80.  68. 332. 248.  84. 200.\n",
      "  55.  85.  89.  31. 129.  83. 275.  65. 198. 236. 253. 124.  44. 172.\n",
      " 114. 142. 109. 180. 144. 163. 147.  97. 220. 190. 109. 191. 122. 230.\n",
      " 242. 248. 249. 192. 131. 237.  78. 135. 244. 199. 270. 164.  72.  96.\n",
      " 306.  91. 214.  95. 216. 263. 178. 113. 200. 139. 139.  88. 148.  88.\n",
      " 243.  71.  77. 109. 272.  60.  54. 221.  90. 311. 281. 182. 321.  58.\n",
      " 262. 206. 233. 242. 123. 167.  63. 197.  71. 168. 140. 217. 121. 235.\n",
      " 245.  40.  52. 104. 132.  88.  69. 219.  72. 201. 110.  51. 277.  63.\n",
      " 118.  69. 273. 258.  43. 198. 242. 232. 175.  93. 168. 275. 293. 281.\n",
      "  72. 140. 189. 181. 209. 136. 261. 113. 131. 174. 257.  55.  84.  42.\n",
      " 146. 212. 233.  91. 111. 152. 120.  67. 310.  94. 183.  66. 173.  72.\n",
      "  49.  64.  48. 178. 104. 132. 220.  57.]\n"
     ]
    }
   ],
   "source": [
    "print(diabetes.target)"
   ]
  },
  {
   "cell_type": "code",
   "execution_count": 8,
   "id": "8ad3c250-5972-40f1-89cc-c87dfc6d1f68",
   "metadata": {},
   "outputs": [
    {
     "name": "stdout",
     "output_type": "stream",
     "text": [
      "['age', 'sex', 'bmi', 'bp', 's1', 's2', 's3', 's4', 's5', 's6']\n"
     ]
    }
   ],
   "source": [
    "print(diabetes.feature_names)"
   ]
  },
  {
   "cell_type": "markdown",
   "id": "988d2dda-0147-42da-8b17-acdd386437ef",
   "metadata": {},
   "source": [
    "##Prepare the dataset"
   ]
  },
  {
   "cell_type": "code",
   "execution_count": 9,
   "id": "00330448-7b3a-4131-9261-027777f43324",
   "metadata": {},
   "outputs": [],
   "source": [
    "dataset=pd.DataFrame(diabetes.data,columns=diabetes.feature_names)"
   ]
  },
  {
   "cell_type": "code",
   "execution_count": 10,
   "id": "d2c6cade-02a3-44e2-aece-afa128d31701",
   "metadata": {},
   "outputs": [
    {
     "data": {
      "text/html": [
       "<div>\n",
       "<style scoped>\n",
       "    .dataframe tbody tr th:only-of-type {\n",
       "        vertical-align: middle;\n",
       "    }\n",
       "\n",
       "    .dataframe tbody tr th {\n",
       "        vertical-align: top;\n",
       "    }\n",
       "\n",
       "    .dataframe thead th {\n",
       "        text-align: right;\n",
       "    }\n",
       "</style>\n",
       "<table border=\"1\" class=\"dataframe\">\n",
       "  <thead>\n",
       "    <tr style=\"text-align: right;\">\n",
       "      <th></th>\n",
       "      <th>age</th>\n",
       "      <th>sex</th>\n",
       "      <th>bmi</th>\n",
       "      <th>bp</th>\n",
       "      <th>s1</th>\n",
       "      <th>s2</th>\n",
       "      <th>s3</th>\n",
       "      <th>s4</th>\n",
       "      <th>s5</th>\n",
       "      <th>s6</th>\n",
       "    </tr>\n",
       "  </thead>\n",
       "  <tbody>\n",
       "    <tr>\n",
       "      <th>0</th>\n",
       "      <td>0.038076</td>\n",
       "      <td>0.050680</td>\n",
       "      <td>0.061696</td>\n",
       "      <td>0.021872</td>\n",
       "      <td>-0.044223</td>\n",
       "      <td>-0.034821</td>\n",
       "      <td>-0.043401</td>\n",
       "      <td>-0.002592</td>\n",
       "      <td>0.019907</td>\n",
       "      <td>-0.017646</td>\n",
       "    </tr>\n",
       "    <tr>\n",
       "      <th>1</th>\n",
       "      <td>-0.001882</td>\n",
       "      <td>-0.044642</td>\n",
       "      <td>-0.051474</td>\n",
       "      <td>-0.026328</td>\n",
       "      <td>-0.008449</td>\n",
       "      <td>-0.019163</td>\n",
       "      <td>0.074412</td>\n",
       "      <td>-0.039493</td>\n",
       "      <td>-0.068332</td>\n",
       "      <td>-0.092204</td>\n",
       "    </tr>\n",
       "    <tr>\n",
       "      <th>2</th>\n",
       "      <td>0.085299</td>\n",
       "      <td>0.050680</td>\n",
       "      <td>0.044451</td>\n",
       "      <td>-0.005670</td>\n",
       "      <td>-0.045599</td>\n",
       "      <td>-0.034194</td>\n",
       "      <td>-0.032356</td>\n",
       "      <td>-0.002592</td>\n",
       "      <td>0.002861</td>\n",
       "      <td>-0.025930</td>\n",
       "    </tr>\n",
       "    <tr>\n",
       "      <th>3</th>\n",
       "      <td>-0.089063</td>\n",
       "      <td>-0.044642</td>\n",
       "      <td>-0.011595</td>\n",
       "      <td>-0.036656</td>\n",
       "      <td>0.012191</td>\n",
       "      <td>0.024991</td>\n",
       "      <td>-0.036038</td>\n",
       "      <td>0.034309</td>\n",
       "      <td>0.022688</td>\n",
       "      <td>-0.009362</td>\n",
       "    </tr>\n",
       "    <tr>\n",
       "      <th>4</th>\n",
       "      <td>0.005383</td>\n",
       "      <td>-0.044642</td>\n",
       "      <td>-0.036385</td>\n",
       "      <td>0.021872</td>\n",
       "      <td>0.003935</td>\n",
       "      <td>0.015596</td>\n",
       "      <td>0.008142</td>\n",
       "      <td>-0.002592</td>\n",
       "      <td>-0.031988</td>\n",
       "      <td>-0.046641</td>\n",
       "    </tr>\n",
       "  </tbody>\n",
       "</table>\n",
       "</div>"
      ],
      "text/plain": [
       "        age       sex       bmi        bp        s1        s2        s3  \\\n",
       "0  0.038076  0.050680  0.061696  0.021872 -0.044223 -0.034821 -0.043401   \n",
       "1 -0.001882 -0.044642 -0.051474 -0.026328 -0.008449 -0.019163  0.074412   \n",
       "2  0.085299  0.050680  0.044451 -0.005670 -0.045599 -0.034194 -0.032356   \n",
       "3 -0.089063 -0.044642 -0.011595 -0.036656  0.012191  0.024991 -0.036038   \n",
       "4  0.005383 -0.044642 -0.036385  0.021872  0.003935  0.015596  0.008142   \n",
       "\n",
       "         s4        s5        s6  \n",
       "0 -0.002592  0.019907 -0.017646  \n",
       "1 -0.039493 -0.068332 -0.092204  \n",
       "2 -0.002592  0.002861 -0.025930  \n",
       "3  0.034309  0.022688 -0.009362  \n",
       "4 -0.002592 -0.031988 -0.046641  "
      ]
     },
     "execution_count": 10,
     "metadata": {},
     "output_type": "execute_result"
    }
   ],
   "source": [
    "dataset.head()"
   ]
  },
  {
   "cell_type": "code",
   "execution_count": 11,
   "id": "c3671452-c6fe-47fc-af94-8271ca0530b5",
   "metadata": {},
   "outputs": [],
   "source": [
    "dataset['Val']=diabetes.target"
   ]
  },
  {
   "cell_type": "code",
   "execution_count": 12,
   "id": "ecb5d2d8-a697-45b2-ada9-025265faa418",
   "metadata": {},
   "outputs": [
    {
     "data": {
      "text/html": [
       "<div>\n",
       "<style scoped>\n",
       "    .dataframe tbody tr th:only-of-type {\n",
       "        vertical-align: middle;\n",
       "    }\n",
       "\n",
       "    .dataframe tbody tr th {\n",
       "        vertical-align: top;\n",
       "    }\n",
       "\n",
       "    .dataframe thead th {\n",
       "        text-align: right;\n",
       "    }\n",
       "</style>\n",
       "<table border=\"1\" class=\"dataframe\">\n",
       "  <thead>\n",
       "    <tr style=\"text-align: right;\">\n",
       "      <th></th>\n",
       "      <th>age</th>\n",
       "      <th>sex</th>\n",
       "      <th>bmi</th>\n",
       "      <th>bp</th>\n",
       "      <th>s1</th>\n",
       "      <th>s2</th>\n",
       "      <th>s3</th>\n",
       "      <th>s4</th>\n",
       "      <th>s5</th>\n",
       "      <th>s6</th>\n",
       "      <th>Val</th>\n",
       "    </tr>\n",
       "  </thead>\n",
       "  <tbody>\n",
       "    <tr>\n",
       "      <th>0</th>\n",
       "      <td>0.038076</td>\n",
       "      <td>0.050680</td>\n",
       "      <td>0.061696</td>\n",
       "      <td>0.021872</td>\n",
       "      <td>-0.044223</td>\n",
       "      <td>-0.034821</td>\n",
       "      <td>-0.043401</td>\n",
       "      <td>-0.002592</td>\n",
       "      <td>0.019907</td>\n",
       "      <td>-0.017646</td>\n",
       "      <td>151.0</td>\n",
       "    </tr>\n",
       "    <tr>\n",
       "      <th>1</th>\n",
       "      <td>-0.001882</td>\n",
       "      <td>-0.044642</td>\n",
       "      <td>-0.051474</td>\n",
       "      <td>-0.026328</td>\n",
       "      <td>-0.008449</td>\n",
       "      <td>-0.019163</td>\n",
       "      <td>0.074412</td>\n",
       "      <td>-0.039493</td>\n",
       "      <td>-0.068332</td>\n",
       "      <td>-0.092204</td>\n",
       "      <td>75.0</td>\n",
       "    </tr>\n",
       "    <tr>\n",
       "      <th>2</th>\n",
       "      <td>0.085299</td>\n",
       "      <td>0.050680</td>\n",
       "      <td>0.044451</td>\n",
       "      <td>-0.005670</td>\n",
       "      <td>-0.045599</td>\n",
       "      <td>-0.034194</td>\n",
       "      <td>-0.032356</td>\n",
       "      <td>-0.002592</td>\n",
       "      <td>0.002861</td>\n",
       "      <td>-0.025930</td>\n",
       "      <td>141.0</td>\n",
       "    </tr>\n",
       "    <tr>\n",
       "      <th>3</th>\n",
       "      <td>-0.089063</td>\n",
       "      <td>-0.044642</td>\n",
       "      <td>-0.011595</td>\n",
       "      <td>-0.036656</td>\n",
       "      <td>0.012191</td>\n",
       "      <td>0.024991</td>\n",
       "      <td>-0.036038</td>\n",
       "      <td>0.034309</td>\n",
       "      <td>0.022688</td>\n",
       "      <td>-0.009362</td>\n",
       "      <td>206.0</td>\n",
       "    </tr>\n",
       "    <tr>\n",
       "      <th>4</th>\n",
       "      <td>0.005383</td>\n",
       "      <td>-0.044642</td>\n",
       "      <td>-0.036385</td>\n",
       "      <td>0.021872</td>\n",
       "      <td>0.003935</td>\n",
       "      <td>0.015596</td>\n",
       "      <td>0.008142</td>\n",
       "      <td>-0.002592</td>\n",
       "      <td>-0.031988</td>\n",
       "      <td>-0.046641</td>\n",
       "      <td>135.0</td>\n",
       "    </tr>\n",
       "  </tbody>\n",
       "</table>\n",
       "</div>"
      ],
      "text/plain": [
       "        age       sex       bmi        bp        s1        s2        s3  \\\n",
       "0  0.038076  0.050680  0.061696  0.021872 -0.044223 -0.034821 -0.043401   \n",
       "1 -0.001882 -0.044642 -0.051474 -0.026328 -0.008449 -0.019163  0.074412   \n",
       "2  0.085299  0.050680  0.044451 -0.005670 -0.045599 -0.034194 -0.032356   \n",
       "3 -0.089063 -0.044642 -0.011595 -0.036656  0.012191  0.024991 -0.036038   \n",
       "4  0.005383 -0.044642 -0.036385  0.021872  0.003935  0.015596  0.008142   \n",
       "\n",
       "         s4        s5        s6    Val  \n",
       "0 -0.002592  0.019907 -0.017646  151.0  \n",
       "1 -0.039493 -0.068332 -0.092204   75.0  \n",
       "2 -0.002592  0.002861 -0.025930  141.0  \n",
       "3  0.034309  0.022688 -0.009362  206.0  \n",
       "4 -0.002592 -0.031988 -0.046641  135.0  "
      ]
     },
     "execution_count": 12,
     "metadata": {},
     "output_type": "execute_result"
    }
   ],
   "source": [
    "dataset.head()"
   ]
  },
  {
   "cell_type": "code",
   "execution_count": 13,
   "id": "543ee46a-dd25-4243-a80b-35d7fc56dc88",
   "metadata": {},
   "outputs": [
    {
     "name": "stdout",
     "output_type": "stream",
     "text": [
      "<class 'pandas.core.frame.DataFrame'>\n",
      "RangeIndex: 442 entries, 0 to 441\n",
      "Data columns (total 11 columns):\n",
      " #   Column  Non-Null Count  Dtype  \n",
      "---  ------  --------------  -----  \n",
      " 0   age     442 non-null    float64\n",
      " 1   sex     442 non-null    float64\n",
      " 2   bmi     442 non-null    float64\n",
      " 3   bp      442 non-null    float64\n",
      " 4   s1      442 non-null    float64\n",
      " 5   s2      442 non-null    float64\n",
      " 6   s3      442 non-null    float64\n",
      " 7   s4      442 non-null    float64\n",
      " 8   s5      442 non-null    float64\n",
      " 9   s6      442 non-null    float64\n",
      " 10  Val     442 non-null    float64\n",
      "dtypes: float64(11)\n",
      "memory usage: 38.1 KB\n"
     ]
    }
   ],
   "source": [
    "dataset.info()"
   ]
  },
  {
   "cell_type": "code",
   "execution_count": 14,
   "id": "7554a49e-ea0a-45d0-aa17-eea400d29181",
   "metadata": {},
   "outputs": [
    {
     "data": {
      "text/html": [
       "<div>\n",
       "<style scoped>\n",
       "    .dataframe tbody tr th:only-of-type {\n",
       "        vertical-align: middle;\n",
       "    }\n",
       "\n",
       "    .dataframe tbody tr th {\n",
       "        vertical-align: top;\n",
       "    }\n",
       "\n",
       "    .dataframe thead th {\n",
       "        text-align: right;\n",
       "    }\n",
       "</style>\n",
       "<table border=\"1\" class=\"dataframe\">\n",
       "  <thead>\n",
       "    <tr style=\"text-align: right;\">\n",
       "      <th></th>\n",
       "      <th>age</th>\n",
       "      <th>sex</th>\n",
       "      <th>bmi</th>\n",
       "      <th>bp</th>\n",
       "      <th>s1</th>\n",
       "      <th>s2</th>\n",
       "      <th>s3</th>\n",
       "      <th>s4</th>\n",
       "      <th>s5</th>\n",
       "      <th>s6</th>\n",
       "      <th>Val</th>\n",
       "    </tr>\n",
       "  </thead>\n",
       "  <tbody>\n",
       "    <tr>\n",
       "      <th>count</th>\n",
       "      <td>4.420000e+02</td>\n",
       "      <td>4.420000e+02</td>\n",
       "      <td>4.420000e+02</td>\n",
       "      <td>4.420000e+02</td>\n",
       "      <td>4.420000e+02</td>\n",
       "      <td>4.420000e+02</td>\n",
       "      <td>4.420000e+02</td>\n",
       "      <td>4.420000e+02</td>\n",
       "      <td>4.420000e+02</td>\n",
       "      <td>4.420000e+02</td>\n",
       "      <td>442.000000</td>\n",
       "    </tr>\n",
       "    <tr>\n",
       "      <th>mean</th>\n",
       "      <td>-2.511817e-19</td>\n",
       "      <td>1.230790e-17</td>\n",
       "      <td>-2.245564e-16</td>\n",
       "      <td>-4.797570e-17</td>\n",
       "      <td>-1.381499e-17</td>\n",
       "      <td>3.918434e-17</td>\n",
       "      <td>-5.777179e-18</td>\n",
       "      <td>-9.042540e-18</td>\n",
       "      <td>9.293722e-17</td>\n",
       "      <td>1.130318e-17</td>\n",
       "      <td>152.133484</td>\n",
       "    </tr>\n",
       "    <tr>\n",
       "      <th>std</th>\n",
       "      <td>4.761905e-02</td>\n",
       "      <td>4.761905e-02</td>\n",
       "      <td>4.761905e-02</td>\n",
       "      <td>4.761905e-02</td>\n",
       "      <td>4.761905e-02</td>\n",
       "      <td>4.761905e-02</td>\n",
       "      <td>4.761905e-02</td>\n",
       "      <td>4.761905e-02</td>\n",
       "      <td>4.761905e-02</td>\n",
       "      <td>4.761905e-02</td>\n",
       "      <td>77.093005</td>\n",
       "    </tr>\n",
       "    <tr>\n",
       "      <th>min</th>\n",
       "      <td>-1.072256e-01</td>\n",
       "      <td>-4.464164e-02</td>\n",
       "      <td>-9.027530e-02</td>\n",
       "      <td>-1.123988e-01</td>\n",
       "      <td>-1.267807e-01</td>\n",
       "      <td>-1.156131e-01</td>\n",
       "      <td>-1.023071e-01</td>\n",
       "      <td>-7.639450e-02</td>\n",
       "      <td>-1.260971e-01</td>\n",
       "      <td>-1.377672e-01</td>\n",
       "      <td>25.000000</td>\n",
       "    </tr>\n",
       "    <tr>\n",
       "      <th>25%</th>\n",
       "      <td>-3.729927e-02</td>\n",
       "      <td>-4.464164e-02</td>\n",
       "      <td>-3.422907e-02</td>\n",
       "      <td>-3.665608e-02</td>\n",
       "      <td>-3.424784e-02</td>\n",
       "      <td>-3.035840e-02</td>\n",
       "      <td>-3.511716e-02</td>\n",
       "      <td>-3.949338e-02</td>\n",
       "      <td>-3.324559e-02</td>\n",
       "      <td>-3.317903e-02</td>\n",
       "      <td>87.000000</td>\n",
       "    </tr>\n",
       "    <tr>\n",
       "      <th>50%</th>\n",
       "      <td>5.383060e-03</td>\n",
       "      <td>-4.464164e-02</td>\n",
       "      <td>-7.283766e-03</td>\n",
       "      <td>-5.670422e-03</td>\n",
       "      <td>-4.320866e-03</td>\n",
       "      <td>-3.819065e-03</td>\n",
       "      <td>-6.584468e-03</td>\n",
       "      <td>-2.592262e-03</td>\n",
       "      <td>-1.947171e-03</td>\n",
       "      <td>-1.077698e-03</td>\n",
       "      <td>140.500000</td>\n",
       "    </tr>\n",
       "    <tr>\n",
       "      <th>75%</th>\n",
       "      <td>3.807591e-02</td>\n",
       "      <td>5.068012e-02</td>\n",
       "      <td>3.124802e-02</td>\n",
       "      <td>3.564379e-02</td>\n",
       "      <td>2.835801e-02</td>\n",
       "      <td>2.984439e-02</td>\n",
       "      <td>2.931150e-02</td>\n",
       "      <td>3.430886e-02</td>\n",
       "      <td>3.243232e-02</td>\n",
       "      <td>2.791705e-02</td>\n",
       "      <td>211.500000</td>\n",
       "    </tr>\n",
       "    <tr>\n",
       "      <th>max</th>\n",
       "      <td>1.107267e-01</td>\n",
       "      <td>5.068012e-02</td>\n",
       "      <td>1.705552e-01</td>\n",
       "      <td>1.320436e-01</td>\n",
       "      <td>1.539137e-01</td>\n",
       "      <td>1.987880e-01</td>\n",
       "      <td>1.811791e-01</td>\n",
       "      <td>1.852344e-01</td>\n",
       "      <td>1.335973e-01</td>\n",
       "      <td>1.356118e-01</td>\n",
       "      <td>346.000000</td>\n",
       "    </tr>\n",
       "  </tbody>\n",
       "</table>\n",
       "</div>"
      ],
      "text/plain": [
       "                age           sex           bmi            bp            s1  \\\n",
       "count  4.420000e+02  4.420000e+02  4.420000e+02  4.420000e+02  4.420000e+02   \n",
       "mean  -2.511817e-19  1.230790e-17 -2.245564e-16 -4.797570e-17 -1.381499e-17   \n",
       "std    4.761905e-02  4.761905e-02  4.761905e-02  4.761905e-02  4.761905e-02   \n",
       "min   -1.072256e-01 -4.464164e-02 -9.027530e-02 -1.123988e-01 -1.267807e-01   \n",
       "25%   -3.729927e-02 -4.464164e-02 -3.422907e-02 -3.665608e-02 -3.424784e-02   \n",
       "50%    5.383060e-03 -4.464164e-02 -7.283766e-03 -5.670422e-03 -4.320866e-03   \n",
       "75%    3.807591e-02  5.068012e-02  3.124802e-02  3.564379e-02  2.835801e-02   \n",
       "max    1.107267e-01  5.068012e-02  1.705552e-01  1.320436e-01  1.539137e-01   \n",
       "\n",
       "                 s2            s3            s4            s5            s6  \\\n",
       "count  4.420000e+02  4.420000e+02  4.420000e+02  4.420000e+02  4.420000e+02   \n",
       "mean   3.918434e-17 -5.777179e-18 -9.042540e-18  9.293722e-17  1.130318e-17   \n",
       "std    4.761905e-02  4.761905e-02  4.761905e-02  4.761905e-02  4.761905e-02   \n",
       "min   -1.156131e-01 -1.023071e-01 -7.639450e-02 -1.260971e-01 -1.377672e-01   \n",
       "25%   -3.035840e-02 -3.511716e-02 -3.949338e-02 -3.324559e-02 -3.317903e-02   \n",
       "50%   -3.819065e-03 -6.584468e-03 -2.592262e-03 -1.947171e-03 -1.077698e-03   \n",
       "75%    2.984439e-02  2.931150e-02  3.430886e-02  3.243232e-02  2.791705e-02   \n",
       "max    1.987880e-01  1.811791e-01  1.852344e-01  1.335973e-01  1.356118e-01   \n",
       "\n",
       "              Val  \n",
       "count  442.000000  \n",
       "mean   152.133484  \n",
       "std     77.093005  \n",
       "min     25.000000  \n",
       "25%     87.000000  \n",
       "50%    140.500000  \n",
       "75%    211.500000  \n",
       "max    346.000000  "
      ]
     },
     "execution_count": 14,
     "metadata": {},
     "output_type": "execute_result"
    }
   ],
   "source": [
    "# summarize the stats of the data\n",
    "dataset.describe()"
   ]
  },
  {
   "cell_type": "code",
   "execution_count": 15,
   "id": "1bb6c859-4d09-4ecc-b642-cc8c971b2066",
   "metadata": {},
   "outputs": [
    {
     "data": {
      "text/plain": [
       "age    0\n",
       "sex    0\n",
       "bmi    0\n",
       "bp     0\n",
       "s1     0\n",
       "s2     0\n",
       "s3     0\n",
       "s4     0\n",
       "s5     0\n",
       "s6     0\n",
       "Val    0\n",
       "dtype: int64"
      ]
     },
     "execution_count": 15,
     "metadata": {},
     "output_type": "execute_result"
    }
   ],
   "source": [
    "##check missing values\n",
    "dataset.isnull().sum()"
   ]
  },
  {
   "cell_type": "markdown",
   "id": "04cff6b0-ab3e-49c3-836a-2584b7430928",
   "metadata": {},
   "source": [
    "###Exploratary Data Analysis"
   ]
  },
  {
   "cell_type": "code",
   "execution_count": 16,
   "id": "d4aaa14e-c680-430a-97f7-84c034e430be",
   "metadata": {},
   "outputs": [
    {
     "data": {
      "text/html": [
       "<div>\n",
       "<style scoped>\n",
       "    .dataframe tbody tr th:only-of-type {\n",
       "        vertical-align: middle;\n",
       "    }\n",
       "\n",
       "    .dataframe tbody tr th {\n",
       "        vertical-align: top;\n",
       "    }\n",
       "\n",
       "    .dataframe thead th {\n",
       "        text-align: right;\n",
       "    }\n",
       "</style>\n",
       "<table border=\"1\" class=\"dataframe\">\n",
       "  <thead>\n",
       "    <tr style=\"text-align: right;\">\n",
       "      <th></th>\n",
       "      <th>age</th>\n",
       "      <th>sex</th>\n",
       "      <th>bmi</th>\n",
       "      <th>bp</th>\n",
       "      <th>s1</th>\n",
       "      <th>s2</th>\n",
       "      <th>s3</th>\n",
       "      <th>s4</th>\n",
       "      <th>s5</th>\n",
       "      <th>s6</th>\n",
       "      <th>Val</th>\n",
       "    </tr>\n",
       "  </thead>\n",
       "  <tbody>\n",
       "    <tr>\n",
       "      <th>age</th>\n",
       "      <td>1.000000</td>\n",
       "      <td>0.173737</td>\n",
       "      <td>0.185085</td>\n",
       "      <td>0.335428</td>\n",
       "      <td>0.260061</td>\n",
       "      <td>0.219243</td>\n",
       "      <td>-0.075181</td>\n",
       "      <td>0.203841</td>\n",
       "      <td>0.270774</td>\n",
       "      <td>0.301731</td>\n",
       "      <td>0.187889</td>\n",
       "    </tr>\n",
       "    <tr>\n",
       "      <th>sex</th>\n",
       "      <td>0.173737</td>\n",
       "      <td>1.000000</td>\n",
       "      <td>0.088161</td>\n",
       "      <td>0.241010</td>\n",
       "      <td>0.035277</td>\n",
       "      <td>0.142637</td>\n",
       "      <td>-0.379090</td>\n",
       "      <td>0.332115</td>\n",
       "      <td>0.149916</td>\n",
       "      <td>0.208133</td>\n",
       "      <td>0.043062</td>\n",
       "    </tr>\n",
       "    <tr>\n",
       "      <th>bmi</th>\n",
       "      <td>0.185085</td>\n",
       "      <td>0.088161</td>\n",
       "      <td>1.000000</td>\n",
       "      <td>0.395411</td>\n",
       "      <td>0.249777</td>\n",
       "      <td>0.261170</td>\n",
       "      <td>-0.366811</td>\n",
       "      <td>0.413807</td>\n",
       "      <td>0.446157</td>\n",
       "      <td>0.388680</td>\n",
       "      <td>0.586450</td>\n",
       "    </tr>\n",
       "    <tr>\n",
       "      <th>bp</th>\n",
       "      <td>0.335428</td>\n",
       "      <td>0.241010</td>\n",
       "      <td>0.395411</td>\n",
       "      <td>1.000000</td>\n",
       "      <td>0.242464</td>\n",
       "      <td>0.185548</td>\n",
       "      <td>-0.178762</td>\n",
       "      <td>0.257650</td>\n",
       "      <td>0.393480</td>\n",
       "      <td>0.390430</td>\n",
       "      <td>0.441482</td>\n",
       "    </tr>\n",
       "    <tr>\n",
       "      <th>s1</th>\n",
       "      <td>0.260061</td>\n",
       "      <td>0.035277</td>\n",
       "      <td>0.249777</td>\n",
       "      <td>0.242464</td>\n",
       "      <td>1.000000</td>\n",
       "      <td>0.896663</td>\n",
       "      <td>0.051519</td>\n",
       "      <td>0.542207</td>\n",
       "      <td>0.515503</td>\n",
       "      <td>0.325717</td>\n",
       "      <td>0.212022</td>\n",
       "    </tr>\n",
       "    <tr>\n",
       "      <th>s2</th>\n",
       "      <td>0.219243</td>\n",
       "      <td>0.142637</td>\n",
       "      <td>0.261170</td>\n",
       "      <td>0.185548</td>\n",
       "      <td>0.896663</td>\n",
       "      <td>1.000000</td>\n",
       "      <td>-0.196455</td>\n",
       "      <td>0.659817</td>\n",
       "      <td>0.318357</td>\n",
       "      <td>0.290600</td>\n",
       "      <td>0.174054</td>\n",
       "    </tr>\n",
       "    <tr>\n",
       "      <th>s3</th>\n",
       "      <td>-0.075181</td>\n",
       "      <td>-0.379090</td>\n",
       "      <td>-0.366811</td>\n",
       "      <td>-0.178762</td>\n",
       "      <td>0.051519</td>\n",
       "      <td>-0.196455</td>\n",
       "      <td>1.000000</td>\n",
       "      <td>-0.738493</td>\n",
       "      <td>-0.398577</td>\n",
       "      <td>-0.273697</td>\n",
       "      <td>-0.394789</td>\n",
       "    </tr>\n",
       "    <tr>\n",
       "      <th>s4</th>\n",
       "      <td>0.203841</td>\n",
       "      <td>0.332115</td>\n",
       "      <td>0.413807</td>\n",
       "      <td>0.257650</td>\n",
       "      <td>0.542207</td>\n",
       "      <td>0.659817</td>\n",
       "      <td>-0.738493</td>\n",
       "      <td>1.000000</td>\n",
       "      <td>0.617859</td>\n",
       "      <td>0.417212</td>\n",
       "      <td>0.430453</td>\n",
       "    </tr>\n",
       "    <tr>\n",
       "      <th>s5</th>\n",
       "      <td>0.270774</td>\n",
       "      <td>0.149916</td>\n",
       "      <td>0.446157</td>\n",
       "      <td>0.393480</td>\n",
       "      <td>0.515503</td>\n",
       "      <td>0.318357</td>\n",
       "      <td>-0.398577</td>\n",
       "      <td>0.617859</td>\n",
       "      <td>1.000000</td>\n",
       "      <td>0.464669</td>\n",
       "      <td>0.565883</td>\n",
       "    </tr>\n",
       "    <tr>\n",
       "      <th>s6</th>\n",
       "      <td>0.301731</td>\n",
       "      <td>0.208133</td>\n",
       "      <td>0.388680</td>\n",
       "      <td>0.390430</td>\n",
       "      <td>0.325717</td>\n",
       "      <td>0.290600</td>\n",
       "      <td>-0.273697</td>\n",
       "      <td>0.417212</td>\n",
       "      <td>0.464669</td>\n",
       "      <td>1.000000</td>\n",
       "      <td>0.382483</td>\n",
       "    </tr>\n",
       "    <tr>\n",
       "      <th>Val</th>\n",
       "      <td>0.187889</td>\n",
       "      <td>0.043062</td>\n",
       "      <td>0.586450</td>\n",
       "      <td>0.441482</td>\n",
       "      <td>0.212022</td>\n",
       "      <td>0.174054</td>\n",
       "      <td>-0.394789</td>\n",
       "      <td>0.430453</td>\n",
       "      <td>0.565883</td>\n",
       "      <td>0.382483</td>\n",
       "      <td>1.000000</td>\n",
       "    </tr>\n",
       "  </tbody>\n",
       "</table>\n",
       "</div>"
      ],
      "text/plain": [
       "          age       sex       bmi        bp        s1        s2        s3  \\\n",
       "age  1.000000  0.173737  0.185085  0.335428  0.260061  0.219243 -0.075181   \n",
       "sex  0.173737  1.000000  0.088161  0.241010  0.035277  0.142637 -0.379090   \n",
       "bmi  0.185085  0.088161  1.000000  0.395411  0.249777  0.261170 -0.366811   \n",
       "bp   0.335428  0.241010  0.395411  1.000000  0.242464  0.185548 -0.178762   \n",
       "s1   0.260061  0.035277  0.249777  0.242464  1.000000  0.896663  0.051519   \n",
       "s2   0.219243  0.142637  0.261170  0.185548  0.896663  1.000000 -0.196455   \n",
       "s3  -0.075181 -0.379090 -0.366811 -0.178762  0.051519 -0.196455  1.000000   \n",
       "s4   0.203841  0.332115  0.413807  0.257650  0.542207  0.659817 -0.738493   \n",
       "s5   0.270774  0.149916  0.446157  0.393480  0.515503  0.318357 -0.398577   \n",
       "s6   0.301731  0.208133  0.388680  0.390430  0.325717  0.290600 -0.273697   \n",
       "Val  0.187889  0.043062  0.586450  0.441482  0.212022  0.174054 -0.394789   \n",
       "\n",
       "           s4        s5        s6       Val  \n",
       "age  0.203841  0.270774  0.301731  0.187889  \n",
       "sex  0.332115  0.149916  0.208133  0.043062  \n",
       "bmi  0.413807  0.446157  0.388680  0.586450  \n",
       "bp   0.257650  0.393480  0.390430  0.441482  \n",
       "s1   0.542207  0.515503  0.325717  0.212022  \n",
       "s2   0.659817  0.318357  0.290600  0.174054  \n",
       "s3  -0.738493 -0.398577 -0.273697 -0.394789  \n",
       "s4   1.000000  0.617859  0.417212  0.430453  \n",
       "s5   0.617859  1.000000  0.464669  0.565883  \n",
       "s6   0.417212  0.464669  1.000000  0.382483  \n",
       "Val  0.430453  0.565883  0.382483  1.000000  "
      ]
     },
     "execution_count": 16,
     "metadata": {},
     "output_type": "execute_result"
    }
   ],
   "source": [
    "#correlation\n",
    "dataset.corr()"
   ]
  },
  {
   "cell_type": "code",
   "execution_count": 18,
   "id": "00ffb762-c55a-4156-beec-66936666a263",
   "metadata": {},
   "outputs": [
    {
     "ename": "ModuleNotFoundError",
     "evalue": "No module named 'seaborn'",
     "output_type": "error",
     "traceback": [
      "\u001b[1;31m---------------------------------------------------------------------------\u001b[0m",
      "\u001b[1;31mModuleNotFoundError\u001b[0m                       Traceback (most recent call last)",
      "Cell \u001b[1;32mIn[18], line 1\u001b[0m\n\u001b[1;32m----> 1\u001b[0m \u001b[38;5;28;01mimport\u001b[39;00m \u001b[38;5;21;01mseaborn\u001b[39;00m \u001b[38;5;28;01mas\u001b[39;00m \u001b[38;5;21;01msns\u001b[39;00m\n\u001b[0;32m      2\u001b[0m sns\u001b[38;5;241m.\u001b[39mpairplot(dataset)\n",
      "\u001b[1;31mModuleNotFoundError\u001b[0m: No module named 'seaborn'"
     ]
    }
   ],
   "source": [
    "import seaborn as sns\n",
    "sns.pairplot(dataset)"
   ]
  },
  {
   "cell_type": "markdown",
   "id": "d8864c74-b90d-4394-a337-bebbe91e8081",
   "metadata": {},
   "source": [
    "##Analyzing th coorrelative fetures"
   ]
  },
  {
   "cell_type": "code",
   "execution_count": 136,
   "id": "755b7fce-c03f-4293-910d-bc99705fe74c",
   "metadata": {},
   "outputs": [
    {
     "data": {
      "text/plain": [
       "Text(0, 0.5, 'val')"
      ]
     },
     "execution_count": 136,
     "metadata": {},
     "output_type": "execute_result"
    },
    {
     "data": {
      "image/png": "[encoded data removed]",
      "text/plain": [
       "<Figure size 640x480 with 1 Axes>"
      ]
     },
     "metadata": {},
     "output_type": "display_data"
    }
   ],
   "source": [
    "plt.scatter(dataset['age'],dataset['Val'])\n",
    "plt.xlabel(\"Age\")\n",
    "plt.ylabel(\"val\")"
   ]
  },
  {
   "cell_type": "code",
   "execution_count": 137,
   "id": "60cb5ce6-7ecd-4b1c-afbc-0f18d59eb147",
   "metadata": {},
   "outputs": [
    {
     "data": {
      "text/plain": [
       "<Axes: xlabel='age', ylabel='Val'>"
      ]
     },
     "execution_count": 137,
     "metadata": {},
     "output_type": "execute_result"
    },
    {
     "data": {
      "image/png": "[encoded data removed]",
      "text/plain": [
       "<Figure size 640x480 with 1 Axes>"
      ]
     },
     "metadata": {},
     "output_type": "display_data"
    }
   ],
   "source": [
    "import seaborn as sns\n",
    "sns.regplot(x=\"age\",y=\"Val\",data=dataset)"
   ]
  },
  {
   "cell_type": "code",
   "execution_count": 138,
   "id": "60ddd447-a043-4954-a8e9-69d791a137ee",
   "metadata": {},
   "outputs": [],
   "source": [
    "##independent and dependent features\n",
    "x=dataset.iloc[:,:-1]\n",
    "y=dataset.iloc[:,-1]\n"
   ]
  },
  {
   "cell_type": "code",
   "execution_count": 139,
   "id": "0539859a-0b7a-40f0-9cff-65a01e5a7aeb",
   "metadata": {},
   "outputs": [
    {
     "data": {
      "text/html": [
       "<div>\n",
       "<style scoped>\n",
       "    .dataframe tbody tr th:only-of-type {\n",
       "        vertical-align: middle;\n",
       "    }\n",
       "\n",
       "    .dataframe tbody tr th {\n",
       "        vertical-align: top;\n",
       "    }\n",
       "\n",
       "    .dataframe thead th {\n",
       "        text-align: right;\n",
       "    }\n",
       "</style>\n",
       "<table border=\"1\" class=\"dataframe\">\n",
       "  <thead>\n",
       "    <tr style=\"text-align: right;\">\n",
       "      <th></th>\n",
       "      <th>age</th>\n",
       "      <th>sex</th>\n",
       "      <th>bmi</th>\n",
       "      <th>bp</th>\n",
       "      <th>s1</th>\n",
       "      <th>s2</th>\n",
       "      <th>s3</th>\n",
       "      <th>s4</th>\n",
       "      <th>s5</th>\n",
       "      <th>s6</th>\n",
       "    </tr>\n",
       "  </thead>\n",
       "  <tbody>\n",
       "    <tr>\n",
       "      <th>0</th>\n",
       "      <td>0.038076</td>\n",
       "      <td>0.050680</td>\n",
       "      <td>0.061696</td>\n",
       "      <td>0.021872</td>\n",
       "      <td>-0.044223</td>\n",
       "      <td>-0.034821</td>\n",
       "      <td>-0.043401</td>\n",
       "      <td>-0.002592</td>\n",
       "      <td>0.019907</td>\n",
       "      <td>-0.017646</td>\n",
       "    </tr>\n",
       "    <tr>\n",
       "      <th>1</th>\n",
       "      <td>-0.001882</td>\n",
       "      <td>-0.044642</td>\n",
       "      <td>-0.051474</td>\n",
       "      <td>-0.026328</td>\n",
       "      <td>-0.008449</td>\n",
       "      <td>-0.019163</td>\n",
       "      <td>0.074412</td>\n",
       "      <td>-0.039493</td>\n",
       "      <td>-0.068332</td>\n",
       "      <td>-0.092204</td>\n",
       "    </tr>\n",
       "    <tr>\n",
       "      <th>2</th>\n",
       "      <td>0.085299</td>\n",
       "      <td>0.050680</td>\n",
       "      <td>0.044451</td>\n",
       "      <td>-0.005670</td>\n",
       "      <td>-0.045599</td>\n",
       "      <td>-0.034194</td>\n",
       "      <td>-0.032356</td>\n",
       "      <td>-0.002592</td>\n",
       "      <td>0.002861</td>\n",
       "      <td>-0.025930</td>\n",
       "    </tr>\n",
       "    <tr>\n",
       "      <th>3</th>\n",
       "      <td>-0.089063</td>\n",
       "      <td>-0.044642</td>\n",
       "      <td>-0.011595</td>\n",
       "      <td>-0.036656</td>\n",
       "      <td>0.012191</td>\n",
       "      <td>0.024991</td>\n",
       "      <td>-0.036038</td>\n",
       "      <td>0.034309</td>\n",
       "      <td>0.022688</td>\n",
       "      <td>-0.009362</td>\n",
       "    </tr>\n",
       "    <tr>\n",
       "      <th>4</th>\n",
       "      <td>0.005383</td>\n",
       "      <td>-0.044642</td>\n",
       "      <td>-0.036385</td>\n",
       "      <td>0.021872</td>\n",
       "      <td>0.003935</td>\n",
       "      <td>0.015596</td>\n",
       "      <td>0.008142</td>\n",
       "      <td>-0.002592</td>\n",
       "      <td>-0.031988</td>\n",
       "      <td>-0.046641</td>\n",
       "    </tr>\n",
       "  </tbody>\n",
       "</table>\n",
       "</div>"
      ],
      "text/plain": [
       "        age       sex       bmi        bp        s1        s2        s3  \\\n",
       "0  0.038076  0.050680  0.061696  0.021872 -0.044223 -0.034821 -0.043401   \n",
       "1 -0.001882 -0.044642 -0.051474 -0.026328 -0.008449 -0.019163  0.074412   \n",
       "2  0.085299  0.050680  0.044451 -0.005670 -0.045599 -0.034194 -0.032356   \n",
       "3 -0.089063 -0.044642 -0.011595 -0.036656  0.012191  0.024991 -0.036038   \n",
       "4  0.005383 -0.044642 -0.036385  0.021872  0.003935  0.015596  0.008142   \n",
       "\n",
       "         s4        s5        s6  \n",
       "0 -0.002592  0.019907 -0.017646  \n",
       "1 -0.039493 -0.068332 -0.092204  \n",
       "2 -0.002592  0.002861 -0.025930  \n",
       "3  0.034309  0.022688 -0.009362  \n",
       "4 -0.002592 -0.031988 -0.046641  "
      ]
     },
     "execution_count": 139,
     "metadata": {},
     "output_type": "execute_result"
    }
   ],
   "source": [
    "x.head()"
   ]
  },
  {
   "cell_type": "code",
   "execution_count": 140,
   "id": "eeee3f00-9330-4066-b396-20ff2685774d",
   "metadata": {},
   "outputs": [
    {
     "data": {
      "text/plain": [
       "0      151.0\n",
       "1       75.0\n",
       "2      141.0\n",
       "3      206.0\n",
       "4      135.0\n",
       "       ...  \n",
       "437    178.0\n",
       "438    104.0\n",
       "439    132.0\n",
       "440    220.0\n",
       "441     57.0\n",
       "Name: Val, Length: 442, dtype: float64"
      ]
     },
     "execution_count": 140,
     "metadata": {},
     "output_type": "execute_result"
    }
   ],
   "source": [
    "y"
   ]
  },
  {
   "cell_type": "markdown",
   "id": "790862af-6c4a-4c28-99ab-b5e101b857f2",
   "metadata": {},
   "source": [
    "#train ,test,split"
   ]
  },
  {
   "cell_type": "code",
   "execution_count": 141,
   "id": "7cedf8b4-a9ba-44d7-8984-23f1df3f81c6",
   "metadata": {},
   "outputs": [],
   "source": [
    "from sklearn.model_selection import train_test_split\n",
    "x_train,x_test,y_train,y_test=train_test_split(x,y,test_size=0.2,random_state=10)"
   ]
  },
  {
   "cell_type": "code",
   "execution_count": 142,
   "id": "19b5d7ae-ad7e-4c1d-bc1c-5c9bbe8b7075",
   "metadata": {},
   "outputs": [
    {
     "data": {
      "text/html": [
       "<div>\n",
       "<style scoped>\n",
       "    .dataframe tbody tr th:only-of-type {\n",
       "        vertical-align: middle;\n",
       "    }\n",
       "\n",
       "    .dataframe tbody tr th {\n",
       "        vertical-align: top;\n",
       "    }\n",
       "\n",
       "    .dataframe thead th {\n",
       "        text-align: right;\n",
       "    }\n",
       "</style>\n",
       "<table border=\"1\" class=\"dataframe\">\n",
       "  <thead>\n",
       "    <tr style=\"text-align: right;\">\n",
       "      <th></th>\n",
       "      <th>age</th>\n",
       "      <th>sex</th>\n",
       "      <th>bmi</th>\n",
       "      <th>bp</th>\n",
       "      <th>s1</th>\n",
       "      <th>s2</th>\n",
       "      <th>s3</th>\n",
       "      <th>s4</th>\n",
       "      <th>s5</th>\n",
       "      <th>s6</th>\n",
       "    </tr>\n",
       "  </thead>\n",
       "  <tbody>\n",
       "    <tr>\n",
       "      <th>252</th>\n",
       "      <td>0.005383</td>\n",
       "      <td>-0.044642</td>\n",
       "      <td>0.059541</td>\n",
       "      <td>-0.056177</td>\n",
       "      <td>0.024574</td>\n",
       "      <td>0.052861</td>\n",
       "      <td>-0.043401</td>\n",
       "      <td>0.050914</td>\n",
       "      <td>-0.004222</td>\n",
       "      <td>-0.030072</td>\n",
       "    </tr>\n",
       "    <tr>\n",
       "      <th>416</th>\n",
       "      <td>-0.027310</td>\n",
       "      <td>-0.044642</td>\n",
       "      <td>0.080019</td>\n",
       "      <td>0.098751</td>\n",
       "      <td>-0.002945</td>\n",
       "      <td>0.018101</td>\n",
       "      <td>-0.017629</td>\n",
       "      <td>0.003312</td>\n",
       "      <td>-0.029526</td>\n",
       "      <td>0.036201</td>\n",
       "    </tr>\n",
       "    <tr>\n",
       "      <th>418</th>\n",
       "      <td>0.009016</td>\n",
       "      <td>-0.044642</td>\n",
       "      <td>-0.024529</td>\n",
       "      <td>-0.026328</td>\n",
       "      <td>0.098876</td>\n",
       "      <td>0.094196</td>\n",
       "      <td>0.070730</td>\n",
       "      <td>-0.002592</td>\n",
       "      <td>-0.021395</td>\n",
       "      <td>0.007207</td>\n",
       "    </tr>\n",
       "    <tr>\n",
       "      <th>163</th>\n",
       "      <td>0.016281</td>\n",
       "      <td>0.050680</td>\n",
       "      <td>0.072474</td>\n",
       "      <td>0.076958</td>\n",
       "      <td>-0.008449</td>\n",
       "      <td>0.005575</td>\n",
       "      <td>-0.006584</td>\n",
       "      <td>-0.002592</td>\n",
       "      <td>-0.023647</td>\n",
       "      <td>0.061054</td>\n",
       "    </tr>\n",
       "    <tr>\n",
       "      <th>253</th>\n",
       "      <td>0.081666</td>\n",
       "      <td>-0.044642</td>\n",
       "      <td>0.033673</td>\n",
       "      <td>0.008101</td>\n",
       "      <td>0.052093</td>\n",
       "      <td>0.056619</td>\n",
       "      <td>-0.017629</td>\n",
       "      <td>0.034309</td>\n",
       "      <td>0.034866</td>\n",
       "      <td>0.069338</td>\n",
       "    </tr>\n",
       "    <tr>\n",
       "      <th>...</th>\n",
       "      <td>...</td>\n",
       "      <td>...</td>\n",
       "      <td>...</td>\n",
       "      <td>...</td>\n",
       "      <td>...</td>\n",
       "      <td>...</td>\n",
       "      <td>...</td>\n",
       "      <td>...</td>\n",
       "      <td>...</td>\n",
       "      <td>...</td>\n",
       "    </tr>\n",
       "    <tr>\n",
       "      <th>369</th>\n",
       "      <td>-0.009147</td>\n",
       "      <td>-0.044642</td>\n",
       "      <td>0.037984</td>\n",
       "      <td>-0.040099</td>\n",
       "      <td>-0.024960</td>\n",
       "      <td>-0.003819</td>\n",
       "      <td>-0.043401</td>\n",
       "      <td>0.015858</td>\n",
       "      <td>-0.005142</td>\n",
       "      <td>0.027917</td>\n",
       "    </tr>\n",
       "    <tr>\n",
       "      <th>320</th>\n",
       "      <td>-0.023677</td>\n",
       "      <td>-0.044642</td>\n",
       "      <td>0.030440</td>\n",
       "      <td>-0.005670</td>\n",
       "      <td>0.082364</td>\n",
       "      <td>0.092004</td>\n",
       "      <td>-0.017629</td>\n",
       "      <td>0.071210</td>\n",
       "      <td>0.033043</td>\n",
       "      <td>0.003064</td>\n",
       "    </tr>\n",
       "    <tr>\n",
       "      <th>15</th>\n",
       "      <td>-0.052738</td>\n",
       "      <td>0.050680</td>\n",
       "      <td>-0.018062</td>\n",
       "      <td>0.080401</td>\n",
       "      <td>0.089244</td>\n",
       "      <td>0.107662</td>\n",
       "      <td>-0.039719</td>\n",
       "      <td>0.108111</td>\n",
       "      <td>0.036060</td>\n",
       "      <td>-0.042499</td>\n",
       "    </tr>\n",
       "    <tr>\n",
       "      <th>125</th>\n",
       "      <td>-0.005515</td>\n",
       "      <td>0.050680</td>\n",
       "      <td>-0.008362</td>\n",
       "      <td>-0.002228</td>\n",
       "      <td>-0.033216</td>\n",
       "      <td>-0.063630</td>\n",
       "      <td>-0.036038</td>\n",
       "      <td>-0.002592</td>\n",
       "      <td>0.080590</td>\n",
       "      <td>0.007207</td>\n",
       "    </tr>\n",
       "    <tr>\n",
       "      <th>265</th>\n",
       "      <td>-0.034575</td>\n",
       "      <td>0.050680</td>\n",
       "      <td>-0.025607</td>\n",
       "      <td>-0.017135</td>\n",
       "      <td>0.001183</td>\n",
       "      <td>-0.002880</td>\n",
       "      <td>0.008142</td>\n",
       "      <td>-0.015508</td>\n",
       "      <td>0.014821</td>\n",
       "      <td>0.040343</td>\n",
       "    </tr>\n",
       "  </tbody>\n",
       "</table>\n",
       "<p>353 rows × 10 columns</p>\n",
       "</div>"
      ],
      "text/plain": [
       "          age       sex       bmi        bp        s1        s2        s3  \\\n",
       "252  0.005383 -0.044642  0.059541 -0.056177  0.024574  0.052861 -0.043401   \n",
       "416 -0.027310 -0.044642  0.080019  0.098751 -0.002945  0.018101 -0.017629   \n",
       "418  0.009016 -0.044642 -0.024529 -0.026328  0.098876  0.094196  0.070730   \n",
       "163  0.016281  0.050680  0.072474  0.076958 -0.008449  0.005575 -0.006584   \n",
       "253  0.081666 -0.044642  0.033673  0.008101  0.052093  0.056619 -0.017629   \n",
       "..        ...       ...       ...       ...       ...       ...       ...   \n",
       "369 -0.009147 -0.044642  0.037984 -0.040099 -0.024960 -0.003819 -0.043401   \n",
       "320 -0.023677 -0.044642  0.030440 -0.005670  0.082364  0.092004 -0.017629   \n",
       "15  -0.052738  0.050680 -0.018062  0.080401  0.089244  0.107662 -0.039719   \n",
       "125 -0.005515  0.050680 -0.008362 -0.002228 -0.033216 -0.063630 -0.036038   \n",
       "265 -0.034575  0.050680 -0.025607 -0.017135  0.001183 -0.002880  0.008142   \n",
       "\n",
       "           s4        s5        s6  \n",
       "252  0.050914 -0.004222 -0.030072  \n",
       "416  0.003312 -0.029526  0.036201  \n",
       "418 -0.002592 -0.021395  0.007207  \n",
       "163 -0.002592 -0.023647  0.061054  \n",
       "253  0.034309  0.034866  0.069338  \n",
       "..        ...       ...       ...  \n",
       "369  0.015858 -0.005142  0.027917  \n",
       "320  0.071210  0.033043  0.003064  \n",
       "15   0.108111  0.036060 -0.042499  \n",
       "125 -0.002592  0.080590  0.007207  \n",
       "265 -0.015508  0.014821  0.040343  \n",
       "\n",
       "[353 rows x 10 columns]"
      ]
     },
     "execution_count": 142,
     "metadata": {},
     "output_type": "execute_result"
    }
   ],
   "source": [
    "x_train"
   ]
  },
  {
   "cell_type": "code",
   "execution_count": 143,
   "id": "5a0cd6b6-1492-42c6-b688-ba573b329257",
   "metadata": {},
   "outputs": [],
   "source": [
    "## standardize the dataset\n",
    "from sklearn.preprocessing import StandardScaler\n",
    "scaler=StandardScaler()"
   ]
  },
  {
   "cell_type": "code",
   "execution_count": 144,
   "id": "53fd913a",
   "metadata": {},
   "outputs": [
    {
     "data": {
      "text/plain": [
       "array([[ 0.80050009,  1.06548848,  1.29708846, ..., -0.05449919,\n",
       "         0.41853093, -0.37098854],\n",
       "       [-0.03956713, -0.93853666, -1.08218016, ..., -0.83030083,\n",
       "        -1.43658851, -1.93847913],\n",
       "       [ 1.79330681,  1.06548848,  0.93453324, ..., -0.05449919,\n",
       "         0.06015558, -0.54515416],\n",
       "       ...,\n",
       "       [ 0.87686984,  1.06548848, -0.33441002, ..., -0.23293356,\n",
       "        -0.98564884,  0.32567395],\n",
       "       [-0.9560041 , -0.93853666,  0.82123474, ...,  0.55838411,\n",
       "         0.93616291, -0.54515416],\n",
       "       [-0.9560041 , -0.93853666, -1.53537419, ..., -0.83030083,\n",
       "        -0.08875225,  0.06442552]])"
      ]
     },
     "execution_count": 144,
     "metadata": {},
     "output_type": "execute_result"
    }
   ],
   "source": [
    "scaler.fit_transform(diabetes.data)\n"
   ]
  },
  {
   "cell_type": "code",
   "execution_count": 145,
   "id": "ed7599cb-5f0a-4f59-8c94-d2e00ea51b79",
   "metadata": {},
   "outputs": [],
   "source": [
    "x_train=scaler.fit_transform(x_train)"
   ]
  },
  {
   "cell_type": "code",
   "execution_count": 146,
   "id": "6e1ba1c0-9d08-498a-996a-3e0b478f3e08",
   "metadata": {},
   "outputs": [],
   "source": [
    "x_test=scaler.fit_transform(x_test)"
   ]
  },
  {
   "cell_type": "code",
   "execution_count": 147,
   "id": "aed11fa5-4f89-4031-9274-a396c512eca8",
   "metadata": {},
   "outputs": [],
   "source": [
    "import pickle\n",
    "pickle.dump(scaler,open('scaling.pkl','wb'))"
   ]
  },
  {
   "cell_type": "code",
   "execution_count": 148,
   "id": "f7dc8ea2-bd89-4fe7-8cea-4dadd71e37bd",
   "metadata": {},
   "outputs": [
    {
     "data": {
      "text/plain": [
       "array([[ 0.10074167, -0.95837272,  1.27363398, ...,  1.02417833,\n",
       "        -0.10757477, -0.64420338],\n",
       "       [-0.58607437, -0.95837272,  1.71607781, ...,  0.03673346,\n",
       "        -0.62937444,  0.74187688],\n",
       "       [ 0.17705456, -0.95837272, -0.54271439, ..., -0.08574032,\n",
       "        -0.46170682,  0.13546677],\n",
       "       ...,\n",
       "       [-1.12026462,  1.04343538, -0.40299528, ...,  2.21064309,\n",
       "         0.72305661, -0.90409343],\n",
       "       [-0.12819701,  1.04343538, -0.19341663, ..., -0.08574032,\n",
       "         1.64128117,  0.13546677],\n",
       "       [-0.73870016,  1.04343538, -0.56600091, ..., -0.35365172,\n",
       "         0.28509075,  0.8285069 ]])"
      ]
     },
     "execution_count": 148,
     "metadata": {},
     "output_type": "execute_result"
    }
   ],
   "source": [
    "x_train"
   ]
  },
  {
   "cell_type": "code",
   "execution_count": 149,
   "id": "afffbd62-e8bd-4abc-9f85-688ce5972926",
   "metadata": {},
   "outputs": [
    {
     "data": {
      "text/plain": [
       "array([[ 0.39304445, -0.86319062, -0.85747036, -0.07261494, -0.30620078,\n",
       "        -0.7617448 ,  0.64571996, -0.75178219,  0.72053472,  0.66324209],\n",
       "       [ 0.2396192 , -0.86319062,  0.91585526,  0.55281054,  0.29881176,\n",
       "        -0.19844973,  0.47865869, -0.75178219,  1.15243744,  0.84157606],\n",
       "       [ 0.62318232, -0.86319062,  0.17353291,  0.69179398,  1.58775152,\n",
       "         1.43692305,  0.22806679,  0.91033717,  1.0267892 ,  0.30657414],\n",
       "       [ 1.54373379,  1.15849267, -0.28010853,  0.4138271 ,  0.9038243 ,\n",
       "         1.15830399,  0.7292506 ,  0.07927749, -1.52477208, -0.31759478],\n",
       "       [ 0.39304445,  1.15849267,  0.23539311, -0.90651559, -1.77927478,\n",
       "        -1.76113928, -1.02489273, -0.75178219,  0.48287285,  0.21740715],\n",
       "       [ 0.77660756,  1.15849267,  0.58593422, -0.69804043, -0.80599374,\n",
       "        -0.11970956, -1.27548464,  0.07927749, -1.27767087, -0.40676176],\n",
       "       [ 0.00948134,  1.15849267, -0.42444898,  1.03925259,  0.58816558,\n",
       "         0.64952134,  0.56218933,  0.07927749, -0.40148939,  0.84157606],\n",
       "       [-0.29736916,  1.15849267,  2.48298022,  1.94264496,  0.37772644,\n",
       "         0.40724389, -0.60723956,  0.91033717,  0.89316995,  0.12824016],\n",
       "       [-1.06449538,  1.15849267, -0.73374996, -1.39295764, -0.54294481,\n",
       "        -0.64666301,  0.7292506 , -0.75178219, -0.7035486 ,  1.55491197],\n",
       "       [ 0.46975707, -0.86319062, -0.40382892, -1.46244936,  0.45664112,\n",
       "        -0.1257665 ,  2.56692456, -1.58284187, -0.88876963,  1.64407895],\n",
       "       [-2.06175948, -0.86319062, -0.40382892, -1.32346592, -1.04273778,\n",
       "        -1.0948763 ,  0.14453615, -0.75178219, -0.32597459, -1.03093068],\n",
       "       [ 1.39030855,  1.15849267, -0.03266774, -0.28109011,  2.0349347 ,\n",
       "         1.01293752,  1.14690377,  0.07927749,  2.03512158, -0.31759478],\n",
       "       [-1.29463325, -0.86319062,  0.73027467, -0.48956527, -0.51663992,\n",
       "        -0.29536071, -0.27311702,  0.07927749, -0.50637106, -1.12009767],\n",
       "       [-1.29463325,  1.15849267, -1.47607232, -0.14210666, -1.30578671,\n",
       "        -1.21601502, -0.35664765, -0.75178219, -0.32597459, -1.12009767],\n",
       "       [ 0.54646969,  1.15849267, -0.34196872, -0.76753215, -0.2009812 ,\n",
       "        -0.22267748,  1.23043441, -0.75178219, -2.12826122, -0.31759478],\n",
       "       [ 1.62044641, -0.86319062,  2.23553944,  0.55281054,  0.5355558 ,\n",
       "         0.55261036,  0.31159742,  0.07927749,  0.07677103, -0.05009381],\n",
       "       [ 0.08619396, -0.86319062, -0.03266774, -0.14210666, -0.09576163,\n",
       "        -0.39227169,  1.06337314, -0.75178219, -0.11495267, -0.22842779],\n",
       "       [-1.60148374, -0.86319062, -0.73374996, -1.67092452, -1.85818946,\n",
       "        -2.11244159,  0.39512806, -1.58284187, -0.37610803, -1.03093068],\n",
       "       [-0.06723129, -0.86319062,  1.28701644,  0.69179398,  0.03576283,\n",
       "         0.3587884 , -0.44017829,  0.15407286, -0.32597459,  0.75240908],\n",
       "       [ 1.46702117, -0.86319062, -1.12553121, -0.83702387, -0.43772524,\n",
       "        -0.40438556,  0.64571996, -0.75178219, -1.20131701, -1.20926465],\n",
       "       [-0.91107014,  1.15849267, -0.42444898,  1.17823603,  0.1672873 ,\n",
       "         0.3587884 , -1.35901527,  1.74139686,  1.06517589,  0.39574113],\n",
       "       [-1.29463325,  1.15849267,  1.88499833,  2.0816284 ,  0.00945794,\n",
       "        -0.02279858, -0.27311702,  0.07927749,  0.61292613,  1.64407895],\n",
       "       [-0.91107014,  1.15849267, -0.85747036, -0.35058183, -0.70077417,\n",
       "        -0.4104425 , -0.10605575, -0.75178219, -1.35696141, -0.76342972],\n",
       "       [ 1.08345805,  1.15849267,  1.16329604,  1.38671119,  0.32511666,\n",
       "         0.46781326, -0.60723956,  0.91033717,  0.59719388,  0.66324209],\n",
       "       [-0.4507944 , -0.86319062, -1.29049173, -1.32346592, -1.06904267,\n",
       "        -0.90711127,  0.31159742, -0.75178219, -1.96024078, -1.03093068],\n",
       "       [ 0.2396192 , -0.86319062, -0.54816938,  0.4138271 ,  0.21989708,\n",
       "         0.23764968, -0.02252511,  0.07927749,  0.30793023,  0.30657414],\n",
       "       [ 1.00674543,  1.15849267, -0.11514801, -0.69804043, -0.06945674,\n",
       "         0.09228321, -1.02489273,  0.91033717,  0.77968798,  0.66324209],\n",
       "       [ 0.2396192 ,  1.15849267, -0.7131299 ,  0.55281054,  0.79860473,\n",
       "         1.49143548, -1.77666844,  2.57245654,  0.44910096, -0.94176369],\n",
       "       [ 0.39304445, -0.86319062,  0.37973356, -0.48956527,  1.21948302,\n",
       "         0.92814041,  0.56218933,  0.07927749,  0.94770842,  0.03907317],\n",
       "       [ 0.54646969,  1.15849267, -0.67188977, -0.97600731, -1.67405521,\n",
       "        -1.39166617, -0.85783146, -0.75178219, -0.61670658, -0.22842779],\n",
       "       [-1.06449538,  1.15849267,  1.92623846,  1.7341698 ,  1.21948302,\n",
       "         1.01293752, -1.44254591,  2.57245654,  2.03512158,  0.93074305],\n",
       "       [-1.4480585 , -0.86319062,  1.82313813,  0.22828421,  0.45664112,\n",
       "         0.89179879, -0.10605575,  0.14576227, -1.1641889 ,  0.03907317],\n",
       "       [-0.52750702, -0.86319062, -1.10491114, -0.62854871,  0.95643409,\n",
       "         0.45569938,  2.6504552 , -0.75178219, -1.09203031, -0.1392608 ],\n",
       "       [ 1.00674543,  1.15849267, -0.63064964,  1.24772775, -0.01684695,\n",
       "         0.03777078, -0.35664765,  0.07927749,  0.44910096,  1.287411  ],\n",
       "       [ 1.62044641, -0.86319062,  0.64779441,  2.01213668,  0.95643409,\n",
       "         0.78277394,  0.22806679,  0.07927749,  0.86527142,  1.01991004],\n",
       "       [-0.83435752,  1.15849267,  0.13229278, -1.11499076, -0.77968885,\n",
       "        -0.45889799, -1.94372971,  1.74139686,  0.9340738 ,  0.48490811],\n",
       "       [ 0.00948134, -0.86319062, -0.93995062, -0.55905699, -0.09576163,\n",
       "        -0.30141765,  1.56455695, -0.75178219, -1.48156083, -1.92260056],\n",
       "       [-0.4507944 , -0.86319062,  0.91585526,  1.80366152, -0.27989588,\n",
       "        -0.61637833,  1.48102631, -0.75178219, -0.7035486 , -0.1392608 ],\n",
       "       [ 1.08345805,  1.15849267,  2.40049996,  1.66467808, -1.93710414,\n",
       "        -1.88227801, -1.69313781,  0.07927749,  0.9340738 , -0.58509574],\n",
       "       [ 0.2396192 , -0.86319062, -0.19762827,  0.55281054, -0.27989588,\n",
       "        -0.02885552, -1.191954  ,  0.91033717,  0.62865838, -0.05009381],\n",
       "       [-0.68093227,  1.15849267,  0.02919245,  1.38671119,  0.82490962,\n",
       "         1.36423982, -1.60960718,  2.57245654,  0.70564152,  1.64407895],\n",
       "       [ 1.00674543, -0.86319062, -0.32134866,  0.4138271 ,  0.58816558,\n",
       "        -0.1923928 ,  2.14927139, -0.75178219,  0.49965392, -0.22842779],\n",
       "       [ 0.39304445, -0.86319062,  1.45197696, -0.85995614, -0.01684695,\n",
       "        -0.1923928 , -0.44017829,  0.11251988,  1.07797145,  1.01991004],\n",
       "       [ 0.08619396,  1.15849267, -0.05328781, -0.28109011, -0.2272861 ,\n",
       "        -0.19844973,  0.06100552, -0.75178219, -0.04908698, -1.38759863],\n",
       "       [ 0.39304445, -0.86319062, -1.16677134, -1.18448248, -1.04273778,\n",
       "        -0.87682659,  0.06100552, -0.75178219, -1.27767087, -1.38759863],\n",
       "       [ 0.08619396, -0.86319062, -0.11514801, -1.32346592, -0.67446928,\n",
       "        -0.40438556, -0.02252511, -0.75178219, -1.3976555 , -1.12009767],\n",
       "       [-0.14394391, -0.86319062, -1.14615127, -1.53194108, -0.38511546,\n",
       "        -0.18633586, -0.02252511, -0.75178219, -0.733335  , -0.94176369],\n",
       "       [-1.67819637, -0.86319062, -1.51731245, -0.83702387,  0.11467751,\n",
       "        -0.28930378,  1.48102631, -0.75178219, -0.16005179, -1.92260056],\n",
       "       [ 0.54646969, -0.86319062,  2.15305918,  1.24772775,  0.32511666,\n",
       "        -0.56792284, -0.69077019,  0.60284509,  2.37451866,  0.5740751 ],\n",
       "       [ 0.00948134, -0.86319062, -0.69250983,  0.4138271 , -2.01601882,\n",
       "        -2.16695401,  0.39512806, -1.58284187, -0.98798769,  0.5740751 ],\n",
       "       [ 0.77660756,  1.15849267, -0.52754931,  0.0663685 ,  1.85080045,\n",
       "         1.75188374,  0.64571996,  0.07927749,  0.64439063, -0.76342972],\n",
       "       [-1.37134587, -0.86319062, -1.08429107,  0.62230226, -0.91121332,\n",
       "        -0.88894046, -0.35664765, -0.75178219,  0.1369731 ,  0.5740751 ],\n",
       "       [-1.60148374, -0.86319062, -1.35235192, -1.18448248, -1.54253075,\n",
       "        -1.36743843, -0.69077019, -0.75178219, -0.32597459, -1.74426658],\n",
       "       [-1.14120801, -0.86319062,  1.82313813, -0.42007355,  0.35142155,\n",
       "         0.52232568, -0.77430083,  0.71088285,  0.69053856,  0.93074305],\n",
       "       [-0.52750702,  1.15849267,  1.20453617,  2.15112012,  0.29881176,\n",
       "        -0.27113297, -0.18958638,  0.07927749,  1.70642242,  2.98158377],\n",
       "       [ 0.54646969,  1.15849267, -0.54816938, -0.14210666, -0.25359099,\n",
       "         0.41330083, -0.85783146,  0.07927749, -1.61413127, -0.67426273],\n",
       "       [-1.52477112, -0.86319062, -0.40382892, -0.14210666, -0.33250567,\n",
       "        -0.20450667,  0.22806679, -0.75178219, -0.79416637, -0.58509574],\n",
       "       [ 1.54373379, -0.86319062, -0.05328781, -0.14210666,  1.74558088,\n",
       "         2.06078749,  0.14453615,  0.91033717, -0.11495267,  0.66324209],\n",
       "       [ 0.39304445, -0.86319062,  0.50345395, -0.48956527, -0.41142035,\n",
       "        -0.43467024, -0.85783146,  0.07927749,  0.94770842,  0.75240908],\n",
       "       [ 1.39030855,  1.15849267,  0.00857239,  1.31721947,  1.79819066,\n",
       "         2.17586928,  0.39512806,  0.53636032, -0.733335  ,  0.12824016],\n",
       "       [ 1.00674543,  1.15849267, -0.01204768,  2.15112012,  0.74599494,\n",
       "         0.50415487,  0.47865869,  0.07927749,  0.73563768,  0.48490811],\n",
       "       [ 0.39304445,  1.15849267, -0.81623023,  1.24772775,  0.27250687,\n",
       "         0.06199853,  1.31396504, -0.75178219, -0.61670658,  0.84157606],\n",
       "       [ 1.54373379,  1.15849267, -0.54816938,  0.4138271 , -0.64816439,\n",
       "        -0.84048497,  0.64571996, -0.75178219, -0.25339647,  0.03907317],\n",
       "       [-1.98504686, -0.86319062, -1.55855258,  0.13586022, -1.91079925,\n",
       "        -1.68239911, -0.44017829, -1.58284187, -1.35696141, -0.67426273],\n",
       "       [-2.21518473, -0.86319062, -1.43483219, -0.55905699, -1.64775032,\n",
       "        -1.79142396,  0.47865869, -1.58284187, -0.88876963, -0.05009381],\n",
       "       [ 1.62044641, -0.86319062,  1.67879768,  1.24772775,  0.35142155,\n",
       "         0.32244679,  0.22806679,  0.07927749,  0.23367401,  1.91157992],\n",
       "       [-0.4507944 , -0.86319062,  0.81275493, -0.28109011, -0.12206653,\n",
       "         0.04988465, -0.18958638,  0.07927749, -0.18291599, -0.76342972],\n",
       "       [ 1.08345805, -0.86319062, -0.7749901 , -1.11499076,  0.93012919,\n",
       "         1.03716526,  0.64571996,  0.07927749, -0.50637106, -1.29843164],\n",
       "       [ 0.16290658, -0.86319062, -1.06367101, -0.48956527, -1.22687203,\n",
       "        -1.25235664, -1.35901527,  0.07927749,  1.07797145, -1.74426658],\n",
       "       [ 0.46975707, -0.86319062,  0.13229278, -0.55905699,  0.50925091,\n",
       "         0.26793436,  1.39749568, -0.75178219, -0.45330094, -0.94176369],\n",
       "       [-0.75764489,  1.15849267,  1.41073683, -1.18448248,  3.00821574,\n",
       "         3.08440971, -0.10605575,  1.75801805,  1.24787976,  1.55491197],\n",
       "       [-0.98778276,  1.15849267, -0.05328781, -0.97600731, -0.33250567,\n",
       "        -0.32564539, -1.69313781,  1.74139686,  1.50001529, -0.76342972],\n",
       "       [-1.75490899,  1.15849267, -0.54816938, -0.48956527, -1.14795735,\n",
       "        -0.97979451,  0.31159742, -0.75178219, -2.12826122, -0.67426273],\n",
       "       [ 0.00948134, -0.86319062, -1.29049173, -0.28109011,  0.06206773,\n",
       "        -0.10759569,  1.48102631, -0.75178219, -1.35696141,  0.93074305],\n",
       "       [-0.91107014,  1.15849267,  1.26639637,  1.38671119,  2.61364235,\n",
       "         2.61196869, -1.02489273,  2.57245654,  1.83374877,  1.91157992],\n",
       "       [ 1.00674543, -0.86319062,  1.03957565, -1.11499076,  1.2720928 ,\n",
       "         1.32184127, -0.35664765,  0.91033717,  0.94770842,  0.48490811],\n",
       "       [ 1.54373379, -0.86319062,  0.27663324,  0.83077743,  1.42992216,\n",
       "         1.10379156,  1.06337314,  0.07927749,  0.67522584, -0.05009381],\n",
       "       [ 0.77660756, -0.86319062, -0.69250983, -0.28109011,  0.24620198,\n",
       "         0.17102338, -0.27311702,  0.07927749,  0.80863532,  2.17908088],\n",
       "       [ 0.46975707, -0.86319062, -0.73374996, -0.35058183, -0.09576163,\n",
       "        -0.27113297,  1.06337314, -0.75178219, -0.61670658,  0.12824016],\n",
       "       [ 1.16017068,  1.15849267, -0.42444898,  1.10874431, -0.06945674,\n",
       "        -0.02885552, -0.60723956,  0.07927749,  0.70564152, -0.76342972],\n",
       "       [ 0.2396192 ,  1.15849267,  0.62717435,  0.83077743,  0.00945794,\n",
       "         0.78277394, -1.60960718,  1.74139686, -0.45330094,  0.39574113],\n",
       "       [ 0.31633183,  1.15849267, -0.38320885, -0.62854871,  0.27250687,\n",
       "         0.61923666, -0.60723956,  0.91033717, -0.04908698,  0.03907317],\n",
       "       [-0.83435752, -0.86319062,  0.833375  , -0.55905699, -0.54294481,\n",
       "        -0.51946735, -0.9413621 ,  0.20393644,  0.86527142, -0.31759478],\n",
       "       [-1.90833423, -0.86319062,  0.58593422, -0.35058183,  0.77229984,\n",
       "         0.55261036,  1.14690377, -0.75178219, -0.02748135,  0.03907317],\n",
       "       [-0.14394391, -0.86319062,  0.25601317, -1.18448248, -0.41142035,\n",
       "        -0.7617448 ,  0.56218933, -0.75178219,  0.48287285, -0.05009381],\n",
       "       [-0.14394391,  1.15849267, -0.30072859, -0.69804043, -0.33250567,\n",
       "         0.30427598, -1.77666844,  1.74139686,  0.09711807,  0.48490811],\n",
       "       [-0.14394391,  1.15849267, -0.7131299 , -0.83702387, -0.09576163,\n",
       "         0.38301615, -1.60960718,  1.74139686,  0.49965392, -1.38759863],\n",
       "       [ 0.08619396, -0.86319062, -0.83685029, -0.69804043, -1.3320916 ,\n",
       "        -1.50674796,  0.89631187, -1.42494053, -1.31689661, -1.65509959],\n",
       "       [ 0.39304445, -0.86319062, -0.50692925, -0.21159839, -0.01684695,\n",
       "        -0.11970956,  0.89631187, -0.75178219, -0.61670658, -0.8525967 ]])"
      ]
     },
     "execution_count": 149,
     "metadata": {},
     "output_type": "execute_result"
    }
   ],
   "source": [
    "x_test"
   ]
  },
  {
   "cell_type": "markdown",
   "id": "2b75f20f-f209-465f-90c4-5dcb4cfb7af4",
   "metadata": {},
   "source": [
    "##model Training"
   ]
  },
  {
   "cell_type": "code",
   "execution_count": 150,
   "id": "f2184d28-bc97-4025-95fa-8e049551c6fc",
   "metadata": {},
   "outputs": [],
   "source": [
    "from sklearn.linear_model import LinearRegression"
   ]
  },
  {
   "cell_type": "code",
   "execution_count": 151,
   "id": "70a47b60-ac71-4864-b386-0a6ea6579418",
   "metadata": {},
   "outputs": [],
   "source": [
    "regression=LinearRegression()"
   ]
  },
  {
   "cell_type": "code",
   "execution_count": 152,
   "id": "7e900518-ff79-41d8-b949-d4d22077d44d",
   "metadata": {},
   "outputs": [
    {
     "data": {
      "text/html": [
       "<style>#sk-container-id-3 {color: black;}#sk-container-id-3 pre{padding: 0;}#sk-container-id-3 div.sk-toggleable {background-color: white;}#sk-container-id-3 label.sk-toggleable__label {cursor: pointer;display: block;width: 100%;margin-bottom: 0;padding: 0.3em;box-sizing: border-box;text-align: center;}#sk-container-id-3 label.sk-toggleable__label-arrow:before {content: \"▸\";float: left;margin-right: 0.25em;color: #696969;}#sk-container-id-3 label.sk-toggleable__label-arrow:hover:before {color: black;}#sk-container-id-3 div.sk-estimator:hover label.sk-toggleable__label-arrow:before {color: black;}#sk-container-id-3 div.sk-toggleable__content {max-height: 0;max-width: 0;overflow: hidden;text-align: left;background-color: #f0f8ff;}#sk-container-id-3 div.sk-toggleable__content pre {margin: 0.2em;color: black;border-radius: 0.25em;background-color: #f0f8ff;}#sk-container-id-3 input.sk-toggleable__control:checked~div.sk-toggleable__content {max-height: 200px;max-width: 100%;overflow: auto;}#sk-container-id-3 input.sk-toggleable__control:checked~label.sk-toggleable__label-arrow:before {content: \"▾\";}#sk-container-id-3 div.sk-estimator input.sk-toggleable__control:checked~label.sk-toggleable__label {background-color: #d4ebff;}#sk-container-id-3 div.sk-label input.sk-toggleable__control:checked~label.sk-toggleable__label {background-color: #d4ebff;}#sk-container-id-3 input.sk-hidden--visually {border: 0;clip: rect(1px 1px 1px 1px);clip: rect(1px, 1px, 1px, 1px);height: 1px;margin: -1px;overflow: hidden;padding: 0;position: absolute;width: 1px;}#sk-container-id-3 div.sk-estimator {font-family: monospace;background-color: #f0f8ff;border: 1px dotted black;border-radius: 0.25em;box-sizing: border-box;margin-bottom: 0.5em;}#sk-container-id-3 div.sk-estimator:hover {background-color: #d4ebff;}#sk-container-id-3 div.sk-parallel-item::after {content: \"\";width: 100%;border-bottom: 1px solid gray;flex-grow: 1;}#sk-container-id-3 div.sk-label:hover label.sk-toggleable__label {background-color: #d4ebff;}#sk-container-id-3 div.sk-serial::before {content: \"\";position: absolute;border-left: 1px solid gray;box-sizing: border-box;top: 0;bottom: 0;left: 50%;z-index: 0;}#sk-container-id-3 div.sk-serial {display: flex;flex-direction: column;align-items: center;background-color: white;padding-right: 0.2em;padding-left: 0.2em;position: relative;}#sk-container-id-3 div.sk-item {position: relative;z-index: 1;}#sk-container-id-3 div.sk-parallel {display: flex;align-items: stretch;justify-content: center;background-color: white;position: relative;}#sk-container-id-3 div.sk-item::before, #sk-container-id-3 div.sk-parallel-item::before {content: \"\";position: absolute;border-left: 1px solid gray;box-sizing: border-box;top: 0;bottom: 0;left: 50%;z-index: -1;}#sk-container-id-3 div.sk-parallel-item {display: flex;flex-direction: column;z-index: 1;position: relative;background-color: white;}#sk-container-id-3 div.sk-parallel-item:first-child::after {align-self: flex-end;width: 50%;}#sk-container-id-3 div.sk-parallel-item:last-child::after {align-self: flex-start;width: 50%;}#sk-container-id-3 div.sk-parallel-item:only-child::after {width: 0;}#sk-container-id-3 div.sk-dashed-wrapped {border: 1px dashed gray;margin: 0 0.4em 0.5em 0.4em;box-sizing: border-box;padding-bottom: 0.4em;background-color: white;}#sk-container-id-3 div.sk-label label {font-family: monospace;font-weight: bold;display: inline-block;line-height: 1.2em;}#sk-container-id-3 div.sk-label-container {text-align: center;}#sk-container-id-3 div.sk-container {/* jupyter's `normalize.less` sets `[hidden] { display: none; }` but bootstrap.min.css set `[hidden] { display: none !important; }` so we also need the `!important` here to be able to override the default hidden behavior on the sphinx rendered scikit-learn.org. See: https://github.com/scikit-learn/scikit-learn/issues/21755 */display: inline-block !important;position: relative;}#sk-container-id-3 div.sk-text-repr-fallback {display: none;}</style><div id=\"sk-container-id-3\" class=\"sk-top-container\"><div class=\"sk-text-repr-fallback\"><pre>LinearRegression()</pre><b>In a Jupyter environment, please rerun this cell to show the HTML representation or trust the notebook. <br />On GitHub, the HTML representation is unable to render, please try loading this page with nbviewer.org.</b></div><div class=\"sk-container\" hidden><div class=\"sk-item\"><div class=\"sk-estimator sk-toggleable\"><input class=\"sk-toggleable__control sk-hidden--visually\" id=\"sk-estimator-id-3\" type=\"checkbox\" checked><label for=\"sk-estimator-id-3\" class=\"sk-toggleable__label sk-toggleable__label-arrow\">LinearRegression</label><div class=\"sk-toggleable__content\"><pre>LinearRegression()</pre></div></div></div></div></div>"
      ],
      "text/plain": [
       "LinearRegression()"
      ]
     },
     "execution_count": 152,
     "metadata": {},
     "output_type": "execute_result"
    }
   ],
   "source": [
    "regression.fit(x_train,y_train)"
   ]
  },
  {
   "cell_type": "code",
   "execution_count": 153,
   "id": "50266f3a-fd14-4744-9c3a-586eade86445",
   "metadata": {},
   "outputs": [
    {
     "name": "stdout",
     "output_type": "stream",
     "text": [
      "[ -0.1850394  -10.74378586  23.97110665  15.4460079  -33.6348803\n",
      "  19.07653925   3.87696491  10.51802947  34.1537076    1.91366485]\n"
     ]
    }
   ],
   "source": [
    "print(regression.coef_)"
   ]
  },
  {
   "cell_type": "code",
   "execution_count": 154,
   "id": "449f6685-e5d6-435b-b94b-43930ee01ccc",
   "metadata": {},
   "outputs": [
    {
     "name": "stdout",
     "output_type": "stream",
     "text": [
      "152.91784702549575\n"
     ]
    }
   ],
   "source": [
    "print(regression.intercept_)"
   ]
  },
  {
   "cell_type": "code",
   "execution_count": 155,
   "id": "d7a3223c-3995-4633-819f-7d5925651bed",
   "metadata": {},
   "outputs": [
    {
     "data": {
      "text/plain": [
       "{'copy_X': True, 'fit_intercept': True, 'n_jobs': None, 'positive': False}"
      ]
     },
     "execution_count": 155,
     "metadata": {},
     "output_type": "execute_result"
    }
   ],
   "source": [
    "#parameter which model is trained\n",
    "regression.get_params()"
   ]
  },
  {
   "cell_type": "code",
   "execution_count": 156,
   "id": "9b7be57b-b19f-4221-b292-8d67fc25811b",
   "metadata": {},
   "outputs": [],
   "source": [
    "##predict with test data\n",
    "reg_pre=regression.predict(x_test)"
   ]
  },
  {
   "cell_type": "code",
   "execution_count": 157,
   "id": "7982296e-06f2-4edf-8985-256205d84532",
   "metadata": {},
   "outputs": [
    {
     "data": {
      "text/plain": [
       "array([156.68482254, 213.72297293, 197.0438852 ,  82.53620502,\n",
       "       163.31556142, 119.89019031, 129.86660213, 263.08736925,\n",
       "        81.35638043,  78.17230614, 126.18370534, 160.14726933,\n",
       "       164.45470223, 101.28865188,  46.39682075, 221.11559185,\n",
       "       146.78771404, 111.35729385, 199.60305381,  80.27258775,\n",
       "       200.06634839, 241.15101177,  74.28621013, 216.450726  ,\n",
       "        53.92943443, 164.38666761, 164.33935104, 167.16690218,\n",
       "       175.80436028, 106.21424566, 284.68701982, 172.77717669,\n",
       "        67.42357389, 162.98045482, 224.48487862, 187.65556946,\n",
       "        72.37255451, 183.28385817, 277.82496787, 201.14153305,\n",
       "       209.05868814, 154.29460276, 218.78353463, 126.69256742,\n",
       "        80.23692426,  96.07155405,  85.63727254,  92.51494439,\n",
       "       297.06487958, 130.69101051, 123.75981884, 156.24335604,\n",
       "       112.51552461, 227.60200661, 251.53159418,  82.53795663,\n",
       "       122.61476374, 146.51254981, 203.48731858, 124.16403879,\n",
       "       186.49075589, 109.85658093, 125.22124564,  93.48200397,\n",
       "        95.57640434, 229.09514051, 174.86404701,  98.25057766,\n",
       "       175.52126978, 124.85017801, 177.46673997, 190.7948082 ,\n",
       "        59.33670227,  76.04408585, 243.70482712, 193.62053564,\n",
       "       182.25289878, 167.65059504, 112.54760823, 170.11236194,\n",
       "       180.25875099, 129.78434133, 209.47997696, 151.41640308,\n",
       "       160.03478691, 155.16834701, 147.48755672,  87.7380677 ,\n",
       "       117.85535112])"
      ]
     },
     "execution_count": 157,
     "metadata": {},
     "output_type": "execute_result"
    }
   ],
   "source": [
    "reg_pre"
   ]
  },
  {
   "cell_type": "code",
   "execution_count": 158,
   "id": "c27538b4-bacf-4acb-9134-5d7e0476735f",
   "metadata": {},
   "outputs": [
    {
     "data": {
      "text/plain": [
       "<matplotlib.collections.PathCollection at 0x14b4fe40d50>"
      ]
     },
     "execution_count": 158,
     "metadata": {},
     "output_type": "execute_result"
    },
    {
     "data": {
      "image/png": "[encoded data removed]",
      "text/plain": [
       "<Figure size 640x480 with 1 Axes>"
      ]
     },
     "metadata": {},
     "output_type": "display_data"
    }
   ],
   "source": [
    "##plot scatter plot for prediction\n",
    "plt.scatter(y_test,reg_pre)"
   ]
  },
  {
   "cell_type": "code",
   "execution_count": 159,
   "id": "e8596b9f-03c4-4fde-b920-ec8220335730",
   "metadata": {},
   "outputs": [],
   "source": [
    "residual=y_test-reg_pre"
   ]
  },
  {
   "cell_type": "code",
   "execution_count": 160,
   "id": "39c815e0-aff0-450d-b9a5-e1a4de5440f2",
   "metadata": {},
   "outputs": [
    {
     "data": {
      "text/plain": [
       "119     43.315177\n",
       "207    -11.722973\n",
       "236   -130.043885\n",
       "288     -2.536205\n",
       "174    -12.315561\n",
       "          ...    \n",
       "37     115.965213\n",
       "66      -5.168347\n",
       "305    -23.487557\n",
       "308     26.261932\n",
       "12      61.144649\n",
       "Name: Val, Length: 89, dtype: float64"
      ]
     },
     "execution_count": 160,
     "metadata": {},
     "output_type": "execute_result"
    }
   ],
   "source": [
    "residual"
   ]
  },
  {
   "cell_type": "code",
   "execution_count": 161,
   "id": "a88c7d78-cb74-471d-ab9d-33b5e6f71f23",
   "metadata": {},
   "outputs": [
    {
     "name": "stderr",
     "output_type": "stream",
     "text": [
      "C:\\Users\\ASUS\\AppData\\Roaming\\Python\\Python311\\site-packages\\seaborn\\axisgrid.py:118: UserWarning: The figure layout has changed to tight\n",
      "  self._figure.tight_layout(*args, **kwargs)\n"
     ]
    },
    {
     "data": {
      "text/plain": [
       "<seaborn.axisgrid.FacetGrid at 0x14b4deb1910>"
      ]
     },
     "execution_count": 161,
     "metadata": {},
     "output_type": "execute_result"
    },
    {
     "data": {
      "image/png": "[encoded data removed]",
      "text/plain": [
       "<Figure size 500x500 with 1 Axes>"
      ]
     },
     "metadata": {},
     "output_type": "display_data"
    }
   ],
   "source": [
    "sns.displot(residual,kind='kde')"
   ]
  },
  {
   "cell_type": "code",
   "execution_count": 162,
   "id": "55e98b7a-3465-4227-8e34-717285151088",
   "metadata": {},
   "outputs": [
    {
     "data": {
      "text/plain": [
       "<matplotlib.collections.PathCollection at 0x14b4ff11650>"
      ]
     },
     "execution_count": 162,
     "metadata": {},
     "output_type": "execute_result"
    },
    {
     "data": {
      "image/png": "[encoded data removed]",
      "text/plain": [
       "<Figure size 640x480 with 1 Axes>"
      ]
     },
     "metadata": {},
     "output_type": "display_data"
    }
   ],
   "source": [
    "plt.scatter(reg_pre,residual)"
   ]
  },
  {
   "cell_type": "code",
   "execution_count": 163,
   "id": "80fd3184-f1bd-41e5-9e52-440a02d58cb3",
   "metadata": {},
   "outputs": [],
   "source": [
    "from sklearn.metrics import mean_squared_error\n",
    "from sklearn.metrics import mean_absolute_error"
   ]
  },
  {
   "cell_type": "code",
   "execution_count": 164,
   "id": "d15a73ac-ff10-47dc-9cf6-cfd0c6c7cca1",
   "metadata": {},
   "outputs": [
    {
     "name": "stdout",
     "output_type": "stream",
     "text": [
      "2933.5291352767535\n",
      "43.63351717609939\n",
      "54.16206361722893\n"
     ]
    }
   ],
   "source": [
    "print(mean_squared_error(y_test,reg_pre))\n",
    "print(mean_absolute_error(y_test,reg_pre))\n",
    "print(np.sqrt(mean_squared_error(y_test,reg_pre)))"
   ]
  },
  {
   "cell_type": "code",
   "execution_count": 165,
   "id": "9c311a7e-9453-40ad-a55f-a56f532cc666",
   "metadata": {},
   "outputs": [
    {
     "name": "stdout",
     "output_type": "stream",
     "text": [
      "0.5307247263790549\n"
     ]
    }
   ],
   "source": [
    "from sklearn.metrics import r2_score\n",
    "score=r2_score(y_test,reg_pre)\n",
    "print(score)"
   ]
  },
  {
   "cell_type": "code",
   "execution_count": 166,
   "id": "ae11adcc-caf4-498d-aaa5-299e74931ccc",
   "metadata": {},
   "outputs": [
    {
     "data": {
      "text/plain": [
       "0.470561229760985"
      ]
     },
     "execution_count": 166,
     "metadata": {},
     "output_type": "execute_result"
    }
   ],
   "source": [
    "#display adjusted R-squared\n",
    "1 - (1-score)*(len(y_test)-1)/(len(y_test)-x_test.shape[1]-1)"
   ]
  },
  {
   "cell_type": "code",
   "execution_count": 167,
   "id": "c1ac64ee",
   "metadata": {},
   "outputs": [
    {
     "data": {
      "text/plain": [
       "array([[ 0.03807591],\n",
       "       [ 0.05068012],\n",
       "       [ 0.06169621],\n",
       "       [ 0.02187239],\n",
       "       [-0.0442235 ],\n",
       "       [-0.03482076],\n",
       "       [-0.04340085],\n",
       "       [-0.00259226],\n",
       "       [ 0.01990749],\n",
       "       [-0.01764613]])"
      ]
     },
     "execution_count": 167,
     "metadata": {},
     "output_type": "execute_result"
    }
   ],
   "source": [
    "diabetes.data[0].reshape(-1,1)"
   ]
  },
  {
   "cell_type": "code",
   "execution_count": 168,
   "id": "c9c62770-6a6c-44a4-8207-8286301feb82",
   "metadata": {},
   "outputs": [
    {
     "name": "stderr",
     "output_type": "stream",
     "text": [
      "C:\\Users\\ASUS\\AppData\\Roaming\\Python\\Python311\\site-packages\\sklearn\\base.py:464: UserWarning: X does not have valid feature names, but StandardScaler was fitted with feature names\n",
      "  warnings.warn(\n"
     ]
    },
    {
     "data": {
      "text/plain": [
       "array([[ 0.85332019,  1.15849267,  1.22515624,  0.4138271 , -0.77968885,\n",
       "        -0.60426446, -1.10842337,  0.07927749,  0.54894831, -0.31759478]])"
      ]
     },
     "execution_count": 168,
     "metadata": {},
     "output_type": "execute_result"
    }
   ],
   "source": [
    "np.array(scaler.transform(diabetes.data[0].reshape(1,-1)))"
   ]
  },
  {
   "cell_type": "code",
   "execution_count": 169,
   "id": "bc031998-ec5d-448b-849a-645dffda55f6",
   "metadata": {},
   "outputs": [
    {
     "name": "stderr",
     "output_type": "stream",
     "text": [
      "C:\\Users\\ASUS\\AppData\\Roaming\\Python\\Python311\\site-packages\\sklearn\\base.py:464: UserWarning: X does not have valid feature names, but StandardScaler was fitted with feature names\n",
      "  warnings.warn(\n"
     ]
    },
    {
     "data": {
      "text/plain": [
       "array([205.44852056])"
      ]
     },
     "execution_count": 169,
     "metadata": {},
     "output_type": "execute_result"
    }
   ],
   "source": [
    "regression.predict(scaler.transform(diabetes.data[0].reshape(1,-1)))"
   ]
  },
  {
   "cell_type": "code",
   "execution_count": 170,
   "id": "3b4c1f52-4cde-47ba-8f5c-9a5b28f0b957",
   "metadata": {},
   "outputs": [],
   "source": [
    "import pickle"
   ]
  },
  {
   "cell_type": "code",
   "execution_count": 171,
   "id": "6c269417-d3af-496e-96d0-1748dfc73b38",
   "metadata": {},
   "outputs": [],
   "source": [
    "pickle.dump(regression,open('regmodel.pkl','wb'))"
   ]
  },
  {
   "cell_type": "code",
   "execution_count": 172,
   "id": "f5ef427b-ffd8-41dd-9e4d-521591dc2e57",
   "metadata": {},
   "outputs": [],
   "source": [
    "pickled_model=pickle.load(open('regmodel.pkl','rb'))"
   ]
  },
  {
   "cell_type": "code",
   "execution_count": 173,
   "id": "9d94068c-5bf6-47ae-ae64-4b5081b7aaef",
   "metadata": {},
   "outputs": [
    {
     "name": "stderr",
     "output_type": "stream",
     "text": [
      "C:\\Users\\ASUS\\AppData\\Roaming\\Python\\Python311\\site-packages\\sklearn\\base.py:464: UserWarning: X does not have valid feature names, but StandardScaler was fitted with feature names\n",
      "  warnings.warn(\n"
     ]
    },
    {
     "data": {
      "text/plain": [
       "array([205.44852056])"
      ]
     },
     "execution_count": 173,
     "metadata": {},
     "output_type": "execute_result"
    }
   ],
   "source": [
    "\n",
    "pickled_model.predict(np.array(scaler.transform(diabetes.data[0].reshape(1,-1))))"
   ]
  }
 ],
 "metadata": {
  "kernelspec": {
   "display_name": "Python 3 (ipykernel)",
   "language": "python",
   "name": "python3"
  },
  "language_info": {
   "codemirror_mode": {
    "name": "ipython",
    "version": 3
   },
   "file_extension": ".py",
   "mimetype": "text/x-python",
   "name": "python",
   "nbconvert_exporter": "python",
   "pygments_lexer": "ipython3",
   "version": "3.11.3"
  }
 },
 "nbformat": 4,
 "nbformat_minor": 5
}
